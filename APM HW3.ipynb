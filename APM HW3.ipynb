{
 "cells": [
  {
   "cell_type": "markdown",
   "metadata": {},
   "source": [
    "\n",
    "# <p style=\"text-align: center;\">MIS382: Advanced Predictive Modeling</p>\n",
    "# <p style=\"text-align: center;\">Assignment 3</p>\n",
    "## <p style=\"text-align: center;\">Total points: 75</p>\n",
    "## <p style=\"text-align: center;\">Due: Tuesday, October 23rd, submitted via Canvas by 11:59 pm</p>\n",
    "## <p style=\"text-align: center;\"> Tianxin Huang (th29885); Rulan Pan (rp33973) </p>\n",
    "\n",
    "Your homework should be written in a **Jupyter notebook**. You may work in groups of two if you wish. Only one student per team needs to submit the assignment on Canvas.  **Please include the name and UTEID for both students on all submitted files (including this notebook).** In addition, please make sure that **your filename includes your EID** (ex. ss324.jpynb or ss324_mj345.jpypb).\n",
    "\n",
    "Also, please make sure your code runs and the graphics (and anything else) are displayed in your notebook before submitting. (%matplotlib inline)"
   ]
  },
  {
   "cell_type": "markdown",
   "metadata": {},
   "source": [
    "# Question 1a - Stochastic Gradient Descent (25pts)"
   ]
  },
  {
   "cell_type": "markdown",
   "metadata": {},
   "source": [
    "1. (5pts) Using stochastic gradient descent, derive the coefficent updates for all 4 coefficients of the model: $$ y = w_0 + w_1x_1 + w_2x_1^2 + w_3x_1x_2 $$ Hint: start from the cost function (Assume sum of squared error). If you write the math by hand, include the image in your notebook."
   ]
  },
  {
   "cell_type": "markdown",
   "metadata": {},
   "source": [
    "$h(x_i)=w_0 + w_1x_1 + w_2x_1^2 + w_3x_1x_2$ for $x_i= \\begin{vmatrix}x_{i1} \\\\x_{i2}\\end{vmatrix}$\n",
    "\n",
    "\n",
    "$Loss(w)=(h(x_i)-t_i)^2$\n",
    "\n",
    "$\\frac{\\partial Loss(w)}{\\partial w_k}= 2\\frac{\\partial h(x_i)}{\\partial w_k}(h(x_i)-t_i)$  for k= 0,1,2,3\n",
    "\n",
    "For k=0\n",
    "\n",
    "$\\frac{\\partial h(x_i)}{\\partial w_0}=1$\n",
    "    \n",
    "$\\frac{\\partial Loss(w)}{\\partial w_0}=2(h(x_i)-t_i)$\n",
    "    \n",
    "$w_0=w_0-2\\eta(h(x_i)-t_i)$\n",
    "\n",
    "For k=1\n",
    "\n",
    "$\\frac{\\partial h(x_i)}{\\partial w_1}=x_{i1}$\n",
    "    \n",
    "$\\frac{\\partial Loss(w)}{\\partial w_1}=2x_{i1}(h(x_i)-t_i)$\n",
    "    \n",
    "$w_1=w_1-2\\eta x_{i1}(h(x_i)-t_i)$\n",
    "\n",
    "For k=2\n",
    "\n",
    "$\\frac{\\partial h(x_i)}{\\partial w_2}=x_{i1}^2$\n",
    "    \n",
    "$\\frac{\\partial Loss(w)}{\\partial w_2}=2x_{i1}^2(h(x_i)-t_i)$\n",
    "    \n",
    "$w_2=w_2-2\\eta x_{i1}^2(h(x_i)-t_i)$\n",
    "\n",
    "For k=3\n",
    "\n",
    "$\\frac{\\partial h(x_i)}{\\partial w_3}=x_{i1}x_{i2}$\n",
    "    \n",
    "$\\frac{\\partial Loss(w)}{\\partial w_3}=2x_{i1}x_{i2}(h(x_i)-t_i)$\n",
    "    \n",
    "$w_3=w_3-2\\eta x_{i1}x_{i2}(h(x_i)-t_i)$"
   ]
  },
  {
   "cell_type": "markdown",
   "metadata": {},
   "source": [
    "2. (15pts) Write Python code for an SGD solution to the non-linear model $$ y = w_0 + w_1x_1 + w_2x_1^2 + w_3x_1x_2$$ Try to format similarly to scikit-learn's models. Your class should take as input the learning_rate, regularization_constant and number of epochs. The fit method must take as input X,y and a choice of update_rule as 'sgd' or 'sgd_momentum' or 'rmsprop'(Notes on implementation below). The _predict_ method takes an X value (optionally, an array of values). Use your new gradient descent regression to predict the data given in 'samples.csv', for 15 epochs, using learning rates: [.0001, .001, .01, 0.1, 1, 10, 100] and regularization constants in the range: [0,10,100] . Plot MSE and the $w$ parameters as a function of epoch (for 15 epochs) for the best 2 combinations of learning_rate and regularization for SGD, SGD-Momentum and RMSProp. I.e., you should have one plot of MSE and another for the parameter updates for SGD, SGD-Momentum and RMSProp (6 plots total).\n"
   ]
  },
  {
   "cell_type": "code",
   "execution_count": 4,
   "metadata": {},
   "outputs": [],
   "source": [
    "from sklearn.utils import shuffle\n",
    "from math import sqrt\n",
    "from sklearn.metrics import mean_squared_error as mse\n",
    "import pandas as pd\n",
    "import numpy as np\n",
    "from sklearn.model_selection import (train_test_split,KFold)\n",
    "from sklearn.metrics import mean_squared_error\n",
    "from sklearn.neural_network import MLPRegressor\n",
    "from sklearn.preprocessing import StandardScaler\n",
    "import matplotlib.pyplot as plt\n",
    "import glob\n",
    "from sklearn.model_selection import train_test_split\n",
    "%matplotlib inline"
   ]
  },
  {
   "cell_type": "code",
   "execution_count": 5,
   "metadata": {},
   "outputs": [],
   "source": [
    "class sgd:\n",
    "    def __init__(self, rate, reg, num_e):\n",
    "        self.rate = rate\n",
    "        self.reg = reg\n",
    "        self.num_e = num_e\n",
    "    \n",
    "    def fit(self, X_train, t, rule):\n",
    "        # Initialize the w \n",
    "        weights = np.array([0]*4)\n",
    "        w0 = weights[0]\n",
    "        w1 = weights[1]\n",
    "        w2 = weights[2]\n",
    "        w3 = weights[3]  \n",
    "        \n",
    "        v = np.array([0]*4)\n",
    "        v0 = v[0]\n",
    "        v1 = v[1]\n",
    "        v2 = v[2]\n",
    "        v3 = v[3] \n",
    "        \n",
    "        ch = np.array([0]*4)\n",
    "        ch0 = ch[0]\n",
    "        ch1 = ch[1]\n",
    "        ch2 = ch[2]\n",
    "        ch3 = ch[3]  \n",
    "        class_weight_list=[]\n",
    "        for epoch in range(self.num_e):\n",
    "            #X,t = shuffle(X_train,t_train) \n",
    "            for i in range(len(X)):\n",
    "                yi = w0 + (w1*X[i][0]) + (w2*X[i][0]*X[i][0]) + (w3*X[i][0]*X[i][1])\n",
    "                \n",
    "                grad0=2*(yi - t[i])+2*self.reg*w0\n",
    "                grad1=2*(yi - t[i])*X[i][0]+2*self.reg*w1\n",
    "                grad2=2*(yi - t[i])*(X[i][0]*X[i][0])+2*self.reg*w2\n",
    "                grad3=2*(yi - t[i])*(X[i][0]*X[i][1])+2*self.reg*w3\n",
    "                \n",
    "                if rule == 'sgd':\n",
    "                    w0 = w0-self.rate*grad0\n",
    "                    w1 = w1-self.rate*grad1\n",
    "                    w2 = w2-self.rate*grad2\n",
    "                    w3 = w3-self.rate*grad3\n",
    "                elif rule == 'sgd_momentum':\n",
    "                    v0 = 0.9*v0 - self.rate*grad0                    \n",
    "                    v1 = 0.9*v1 - self.rate*grad1\n",
    "                    v2 = 0.9*v2 - self.rate*grad2\n",
    "                    v3 = 0.9*v3 - self.rate*grad3\n",
    "                    w3 = w0 + v0\n",
    "                    w1 = w1 + v1                    \n",
    "                    w2 = w2 + v2\n",
    "                    w3 = w3 + v3          \n",
    "                elif rule == 'rmsprop':\n",
    "                    ch0 = 0.9*ch0 + 0.1*grad0*grad0\n",
    "                    ch1 = 0.9*ch1 + 0.1*grad1*grad1                    \n",
    "                    ch2 = 0.9*ch2 + 0.1*grad2*grad2\n",
    "                    ch3 = 0.9*ch3 + 0.1*grad3*grad3                    \n",
    "                    w0 = w0 - ((self.rate)/sqrt(ch0+1e-6))*grad0\n",
    "                    w1 = w1 - ((self.rate)/sqrt(ch1+1e-6))*grad1                   \n",
    "                    w2 = w2 - ((self.rate)/sqrt(ch2+1e-6))*grad2\n",
    "                    w3 = w3 - ((self.rate)/sqrt(ch3+1e-6))*grad3                                 \n",
    "                weight = [w0, w1, w2, w3]\n",
    "            class_weight_list.append(weight)  \n",
    "        self.weights = weight\n",
    "        self. class_weight_list = class_weight_list          \n",
    "        \n",
    "    def pred(self, X):\n",
    "        \n",
    "        y_pred = []\n",
    "        for xi in X:\n",
    "            yi = self.weights[0] + (self.weights[1]*xi[0]) + (self.weights[2]*xi[0]*xi[0]) + (self.weights[3]*xi[0]*xi[1])\n",
    "            y_pred.append(yi)\n",
    "        self.y_pred = y_pred\n",
    "        return y_pred\n",
    "        \n",
    "        "
   ]
  },
  {
   "cell_type": "code",
   "execution_count": 6,
   "metadata": {},
   "outputs": [],
   "source": [
    "data = pd.read_csv('samples.csv')\n",
    "X = np.array(data[['x1','x2']])\n",
    "y = np.array(data['y'])"
   ]
  },
  {
   "cell_type": "code",
   "execution_count": 7,
   "metadata": {},
   "outputs": [
    {
     "name": "stderr",
     "output_type": "stream",
     "text": [
      "/anaconda2/envs/python36/lib/python3.6/site-packages/sklearn/metrics/regression.py:239: RuntimeWarning: overflow encountered in square\n",
      "  output_errors = np.average((y_true - y_pred) ** 2, axis=0,\n"
     ]
    }
   ],
   "source": [
    "rate_list = [.0001, .001, .01]\n",
    "reg_list = [0,10,100] \n",
    "\n",
    "list_sgd = []\n",
    "for eta in rate_list:\n",
    "    for reg in reg_list:\n",
    "        model = sgd(eta, reg, 15)\n",
    "        model.fit(X,y, 'sgd')\n",
    "        mse_i = mse(model.pred(X),y)\n",
    "        t_combine = (mse_i, reg, eta)\n",
    "        list_sgd.append(t_combine)"
   ]
  },
  {
   "cell_type": "code",
   "execution_count": 8,
   "metadata": {},
   "outputs": [
    {
     "name": "stderr",
     "output_type": "stream",
     "text": [
      "/anaconda2/envs/python36/lib/python3.6/site-packages/sklearn/metrics/regression.py:239: RuntimeWarning: overflow encountered in square\n",
      "  output_errors = np.average((y_true - y_pred) ** 2, axis=0,\n"
     ]
    }
   ],
   "source": [
    "rate_list = [.0001, .001, .01]\n",
    "list_mom = []\n",
    "for eta in rate_list:\n",
    "    for reg in reg_list:\n",
    "        model = sgd(eta, reg, 15)\n",
    "        model.fit(X,y, 'sgd_momentum')\n",
    "        mse_i = mse(model.pred(X),y)\n",
    "        t_combine = (mse_i, reg, eta)\n",
    "        list_mom.append(t_combine)"
   ]
  },
  {
   "cell_type": "code",
   "execution_count": 9,
   "metadata": {},
   "outputs": [],
   "source": [
    "rate_list = [.0001, .001, .01, 0.1, 1, 10, 100]\n",
    "list_rmsp = []\n",
    "for eta in rate_list:\n",
    "    for reg in reg_list:\n",
    "        model = sgd(eta, reg, 15)\n",
    "        model.fit(X,y, 'rmsprop')\n",
    "        mse_i = mse(model.pred(X),y)\n",
    "        t_combine = (mse_i, reg, eta)\n",
    "        list_rmsp.append(t_combine)"
   ]
  },
  {
   "cell_type": "markdown",
   "metadata": {},
   "source": [
    "3. (2pts) Report the MSE at the end of 15 epochs for both combinations."
   ]
  },
  {
   "cell_type": "code",
   "execution_count": 37,
   "metadata": {},
   "outputs": [
    {
     "name": "stdout",
     "output_type": "stream",
     "text": [
      "('For SGD, mse, regulation parameter, learning rate: \\n', [(0.0035435745951305246, 0, 0.001), (0.303489380724702, 0, 0.0001)])\n",
      "('For SGD-Momentum, mse, regulation parameter, learning rate: \\n', [(1.7391211895048548, 0, 0.0001), (5.4468597257477835, 10, 0.0001)])\n",
      "('For RMSProp, mse, regulation parameter, learning rate: \\n', [(0.0783961529763714, 0, 0.01), (1.7162396077106914, 10, 0.1)])\n"
     ]
    }
   ],
   "source": [
    "print('For SGD, mse, regulation parameter, learning rate: \\n',sorted(list_sgd,key=lambda x:x[0])[:2])\n",
    "print('For SGD-Momentum, mse, regulation parameter, learning rate: \\n',sorted(list_mom,key=lambda x:x[0])[:2])\n",
    "print('For RMSProp, mse, regulation parameter, learning rate: \\n',sorted(list_rmsp,key=lambda x:x[0])[:2])"
   ]
  },
  {
   "cell_type": "code",
   "execution_count": 10,
   "metadata": {},
   "outputs": [
    {
     "data": {
      "text/plain": [
       "<matplotlib.legend.Legend at 0x1a1621af60>"
      ]
     },
     "execution_count": 10,
     "metadata": {},
     "output_type": "execute_result"
    },
    {
     "data": {
      "image/png": "[encoded data removed]",
      "text/plain": [
       "<Figure size 720x288 with 2 Axes>"
      ]
     },
     "metadata": {
      "needs_background": "light"
     },
     "output_type": "display_data"
    }
   ],
   "source": [
    "X_df = pd.DataFrame(X)\n",
    "y_df = pd.DataFrame(y)\n",
    "\n",
    "model1 = sgd(0.001, 0, 15)\n",
    "model1.fit(X,y, 'sgd')\n",
    "\n",
    "model2 = sgd(0.0001, 0, 15)\n",
    "model2.fit(X,y, 'sgd')\n",
    "\n",
    "l = []\n",
    "l2 = []\n",
    "for i in range(15):\n",
    "    coef = model1.class_weight_list[i]\n",
    "    yhat = coef[0] + (coef[1]*X_df[0]) + (coef[2]*X_df[0]*X_df[0]) + (coef[3]*X_df[0]*X_df[1])\n",
    "    mse_i = mse(yhat,y)\n",
    "    l.append(mse_i)\n",
    "\n",
    "l2 = []\n",
    "for i in range(15):\n",
    "    coef = model2.class_weight_list[i]\n",
    "    yhat = coef[0] + (coef[1]*X_df[0]) + (coef[2]*X_df[0]*X_df[0]) + (coef[3]*X_df[0]*X_df[1])\n",
    "    mse_i = mse(yhat,y)\n",
    "    l2.append(mse_i)\n",
    "\n",
    "plt.figure(figsize=(10,4))\n",
    "plt.subplot(121)\n",
    "plt.plot(l,label = 'no.1')\n",
    "plt.plot(l2,label = 'no.2')\n",
    "plt.legend()\n",
    "plt.subplot(122)\n",
    "plt.plot(model1.class_weight_list,label = 'no.1')\n",
    "plt.plot(model2.class_weight_list,label = 'no.2')\n",
    "plt.legend()\n"
   ]
  },
  {
   "cell_type": "code",
   "execution_count": 11,
   "metadata": {},
   "outputs": [
    {
     "data": {
      "text/plain": [
       "<matplotlib.legend.Legend at 0x1a163f29b0>"
      ]
     },
     "execution_count": 11,
     "metadata": {},
     "output_type": "execute_result"
    },
    {
     "data": {
      "image/png": "[encoded data removed]",
      "text/plain": [
       "<Figure size 720x288 with 2 Axes>"
      ]
     },
     "metadata": {
      "needs_background": "light"
     },
     "output_type": "display_data"
    }
   ],
   "source": [
    "model1 = sgd(0.0001, 0, 15)\n",
    "model1.fit(X,y, 'sgd_momentum')\n",
    "\n",
    "model2 = sgd(0.0001, 10, 15)\n",
    "model2.fit(X,y, 'sgd_momentum')\n",
    "\n",
    "l = []\n",
    "l2 = []\n",
    "for i in range(15):\n",
    "    coef = model1.class_weight_list[i]\n",
    "    yhat = coef[0] + (coef[1]*X_df[0]) + (coef[2]*X_df[0]*X_df[0]) + (coef[3]*X_df[0]*X_df[1])\n",
    "    mse_i = mse(yhat,y)\n",
    "    l.append(mse_i)\n",
    "\n",
    "l2 = []\n",
    "for i in range(15):\n",
    "    coef = model2.class_weight_list[i]\n",
    "    yhat = coef[0] + (coef[1]*X_df[0]) + (coef[2]*X_df[0]*X_df[0]) + (coef[3]*X_df[0]*X_df[1])\n",
    "    mse_i = mse(yhat,y)\n",
    "    l2.append(mse_i)\n",
    "\n",
    "plt.figure(figsize=(10,4))\n",
    "plt.subplot(121)\n",
    "plt.plot(l,label = 'no.1')\n",
    "plt.plot(l2,label = 'no.2')\n",
    "plt.legend()\n",
    "plt.subplot(122)\n",
    "plt.plot(model1.class_weight_list,label = 'no.1')\n",
    "plt.plot(model2.class_weight_list,label = 'no.2')\n",
    "plt.legend()"
   ]
  },
  {
   "cell_type": "code",
   "execution_count": 12,
   "metadata": {},
   "outputs": [
    {
     "data": {
      "text/plain": [
       "<matplotlib.legend.Legend at 0x1a1658c940>"
      ]
     },
     "execution_count": 12,
     "metadata": {},
     "output_type": "execute_result"
    },
    {
     "data": {
      "image/png": "[encoded data removed]",
      "text/plain": [
       "<Figure size 720x288 with 2 Axes>"
      ]
     },
     "metadata": {
      "needs_background": "light"
     },
     "output_type": "display_data"
    }
   ],
   "source": [
    "model1 = sgd(0.01, 0, 15)\n",
    "model1.fit(X,y, 'rmsprop')\n",
    "\n",
    "model2 = sgd(0.1, 0, 15)\n",
    "model2.fit(X,y, 'rmsprop')\n",
    "\n",
    "l = []\n",
    "l2 = []\n",
    "for i in range(15):\n",
    "    coef = model1.class_weight_list[i]\n",
    "    yhat = coef[0] + (coef[1]*X_df[0]) + (coef[2]*X_df[0]*X_df[0]) + (coef[3]*X_df[0]*X_df[1])\n",
    "    mse_i = mse(yhat,y)\n",
    "    l.append(mse_i)\n",
    "\n",
    "l2 = []\n",
    "for i in range(15):\n",
    "    coef = model2.class_weight_list[i]\n",
    "    yhat = coef[0] + (coef[1]*X_df[0]) + (coef[2]*X_df[0]*X_df[0]) + (coef[3]*X_df[0]*X_df[1])\n",
    "    mse_i = mse(yhat,y)\n",
    "    l2.append(mse_i)\n",
    "\n",
    "plt.figure(figsize=(10,4))\n",
    "plt.subplot(121)\n",
    "plt.plot(l,label = 'no.1')\n",
    "plt.plot(l2,label = 'no.2')\n",
    "plt.legend()\n",
    "plt.subplot(122)\n",
    "plt.plot(model1.class_weight_list,label = 'no.1')\n",
    "plt.plot(model2.class_weight_list,label = 'no.2')\n",
    "plt.legend()"
   ]
  },
  {
   "cell_type": "markdown",
   "metadata": {},
   "source": [
    "4. (3pts) Based on the experiments, which of the 3 techniques allowed for larger initial setting of the learning_rate? Why?"
   ]
  },
  {
   "cell_type": "markdown",
   "metadata": {},
   "source": [
    "RMSProp allows for larger initial setting of learning rate. \n",
    "For stochasitc gradient descent methods, there is a problem for large learning rate because larger learning rate makes the position change in each update larger thereby missing the local optimal, which is even worse when the weights are large. So to achieve the optimal, we want to make the learning rate small when the weights are large. \n",
    "\n",
    "RMSProp keeps a moving average of the squared gradient for each weight. When the initial learning rate is large and the weights are large, the learning rate will be devided by the recent running average of the weights, which avoid missing the optimal."
   ]
  },
  {
   "cell_type": "markdown",
   "metadata": {},
   "source": [
    "# Notes on SGD with momentum\n",
    "Momentum helps accelerate SGD in relevant direction and dampens the oscillations. It tries to maintain the direction in which the gradient vector was already pointing and adjusts the direction slowly with the new gradients. The steps can be listed below :\n",
    "1. v[t] = mu * v[t-1] - (learning_rate)*(gradient)\n",
    "2. w = w + v\n",
    "\n",
    "Set mu = 0.90. Initialize v with zeros.\n"
   ]
  },
  {
   "cell_type": "markdown",
   "metadata": {},
   "source": [
    "# Notes on RMSProp\n",
    "RMSProp (http://ruder.io/optimizing-gradient-descent/) differs from vanilla SGD in that the learning rate of each weight changes over updates. The RMSProp update adjusts the Adagrad method in a very simple way in an attempt to reduce its aggressive, monotonically decreasing learning rate.  In particular, it uses a moving average of squared gradients as cache. The learning_rate is divided by the cache, resulting in a different learning rate for each weight. A consequence of this update rule is that weights that have already seen large gradients (made large jumps) make smaller updates in subsequent iterations.\n",
    "Specifically, the steps can be listed as below:\n",
    "1. cache = (decay_rate)*(cache) + (1 - decay_rate)*(gradients^2) \n",
    "2. weights = weights - ((learning_rate)/sqrt(cache+1e-6))*gradients\n",
    "\n",
    "Use decay_rate = 0.90. Initialize cache with zeros."
   ]
  },
  {
   "cell_type": "markdown",
   "metadata": {},
   "source": [
    "# (Optional) Notes on Training with Gradient Descent\n",
    "1. Compute error: This consists of a prediction error and a regularization term. From an implementation perspective, this is a function that takes as input the truth, prediction and regularization hyperparameter and returns an error\n",
    "2. Compute gradients: Take a derivative of the error in terms of the weights. This can be modelled as a function that takes as input the error and features and returns the gradients for each weight\n",
    "3. Update weights: Weight updates can be done using vanilla SGD or adaptive techniques. The update function takes as inputs the gradient and hyperparameters and returns the new weights."
   ]
  },
  {
   "cell_type": "markdown",
   "metadata": {},
   "source": [
    "# Question 2 - Multi-layer perceptron Regressor (15 pts)"
   ]
  },
  {
   "cell_type": "markdown",
   "metadata": {},
   "source": [
    "In this question, you will explore the application of Multi-layer Perceptron (MLP) regression using sklearn package in Python;\n",
    "http://scikit-learn.org/stable/modules/generated/sklearn.neural_network.MLPRegressor.html.\n",
    "\n",
    "\n",
    "We will use the OpenCL gemm kernel performance prediction dataset for this problem; https://archive.ics.uci.edu/ml/datasets/SGEMM+GPU+kernel+performance.\n",
    "\n",
    "Following code will pre-process the data and split the data into training and test set using [train_test_split](http://scikit-learn.org/stable/modules/generated/sklearn.model_selection.train_test_split.html) with **random state 30** and **test_size = 0.25**."
   ]
  },
  {
   "cell_type": "code",
   "execution_count": 4,
   "metadata": {
    "scrolled": true
   },
   "outputs": [
    {
     "name": "stdout",
     "output_type": "stream",
     "text": [
      "((181200, 14), (181200,), (60400, 14), (60400,))\n"
     ]
    }
   ],
   "source": [
    "data = pd.read_csv('sgemm_product.csv') \n",
    "data['target'] = 0.25*(data['Run1 (ms)'] + data['Run2 (ms)']+ data['Run3 (ms)'] + data['Run4 (ms)'])\n",
    "y = data['target']\n",
    "y = y.values         #y.as_matrix()\n",
    "X = data.drop(['target','Run1 (ms)', 'Run2 (ms)', 'Run3 (ms)', 'Run4 (ms)'], axis = 1)\n",
    "X_train, X_test, y_train, y_test = train_test_split(X,y,test_size = 0.25, random_state=30)\n",
    "\n",
    "print(X_train.shape, y_train.shape, X_test.shape, y_test.shape)"
   ]
  },
  {
   "cell_type": "markdown",
   "metadata": {},
   "source": [
    "One more thing to use in this problem is [StandardScaler](http://scikit-learn.org/stable/modules/generated/sklearn.preprocessing.StandardScaler.html). Instead of fitting a model on original data, use StandardScaler to make each feature centered ([Example](http://scikit-learn.org/stable/auto_examples/applications/plot_prediction_latency.html#sphx-glr-auto-examples-applications-plot-prediction-latency-py)). Whenever you have training and test data, fit a scaler on training data and use this scaler on test data. Here, scale only features (independent variables), not target variable y. "
   ]
  },
  {
   "cell_type": "code",
   "execution_count": 5,
   "metadata": {},
   "outputs": [],
   "source": [
    "scaler = StandardScaler()\n",
    "X_train = scaler.fit_transform(X_train)\n",
    "X_test = scaler.fit_transform(X_test)"
   ]
  },
  {
   "cell_type": "markdown",
   "metadata": {},
   "source": [
    "1) (5pts) Use [sklearn.neural_nework.MLPRegressor](http://scikit-learn.org/stable/modules/generated/sklearn.neural_network.MLPRegressor.html#sklearn.neural_network.MLPRegressor) to do a 5-fold cross validation using sklearn's [KFold](http://scikit-learn.org/stable/modules/generated/sklearn.model_selection.KFold.html#sklearn.model_selection.KFold). The cross validation must be performed on the **training data**. Use following parameter settings for MLPRegressor:\n",
    "\n",
    "    activation = 'tanh', solver = 'sgd', learning_rate='constant', random_state=42,\n",
    "    batch_size=30, learning_rate_init = 0.005\n",
    "    \n",
    "Now, consider the following settings for the number of hidden units:\n",
    "    \n",
    "   (a) *hidden_layer_sizes = (2,)* \n",
    "   \n",
    "   (b) *hidden_layer_sizes = (10,)*\n",
    "   \n",
    "   (c) *hidden_layer_sizes = (30,)*\n",
    "   \n",
    "   (d) *hidden_layer_sizes = (50,)*\n",
    "   \n",
    "   Report the average Root Mean Squared Error (RMSE) value based on your 5-fold cross validation for each model.\n",
    "   "
   ]
  },
  {
   "cell_type": "code",
   "execution_count": 6,
   "metadata": {},
   "outputs": [
    {
     "data": {
      "text/plain": [
       "<generator object split at 0x10bec5960>"
      ]
     },
     "execution_count": 6,
     "metadata": {},
     "output_type": "execute_result"
    }
   ],
   "source": [
    "kf = KFold(n_splits=5, random_state=42)\n",
    "kf.get_n_splits(X_train)\n",
    "kf.split(X_train)"
   ]
  },
  {
   "cell_type": "code",
   "execution_count": 7,
   "metadata": {},
   "outputs": [],
   "source": [
    "layer_list = [2,10,30,50]\n",
    "def MLP_n(n):\n",
    "    return MLPRegressor( hidden_layer_sizes = (n,),activation = 'tanh', solver = 'sgd', \n",
    "                 learning_rate='constant', random_state=42,batch_size=30, learning_rate_init = 0.005)"
   ]
  },
  {
   "cell_type": "code",
   "execution_count": 8,
   "metadata": {},
   "outputs": [
    {
     "name": "stdout",
     "output_type": "stream",
     "text": [
      "('For hidden layer size', 2, 'rmse is ', 270.23632573838324)\n",
      "('For hidden layer size', 10, 'rmse is ', 238.93897530084928)\n",
      "('For hidden layer size', 30, 'rmse is ', 219.11677341507024)\n",
      "('For hidden layer size', 50, 'rmse is ', 206.8514999049625)\n"
     ]
    }
   ],
   "source": [
    "rmse_list = []\n",
    "for n in  layer_list:  \n",
    "    for train, test in kf.split(X_train):\n",
    "        M = MLP_n(n)\n",
    "        M.fit(X_train[train],y_train[train])\n",
    "        rmse_list.append (sqrt(mse(M.predict(X_train[test]),y_train[test])))\n",
    "    print('For hidden layer size',n ,'rmse is ', np.mean(rmse_list))"
   ]
  },
  {
   "cell_type": "markdown",
   "metadata": {},
   "source": [
    "2) (5pts) Now, using the same parameters used in part 1), train MLPRegressor models on the entire training set and report the RMSE score for both the trainnig and testing sets (again, use StandardScaler). Which of the four models ((a)-(d)) performs the best? Briefly analyze and discuss the results, commenting on the number of hidden units."
   ]
  },
  {
   "cell_type": "code",
   "execution_count": 9,
   "metadata": {},
   "outputs": [
    {
     "name": "stdout",
     "output_type": "stream",
     "text": [
      "('For hidden layer size', 2, 'training rmse is ', 266.35421927262047, 'test rmse is ', 261.89592348040935)\n",
      "('For hidden layer size', 10, 'training rmse is ', 227.05583943895655, 'test rmse is ', 222.7837566399868)\n",
      "('For hidden layer size', 30, 'training rmse is ', 209.49171628660778, 'test rmse is ', 208.90191331890009)\n",
      "('For hidden layer size', 50, 'training rmse is ', 182.96749234517418, 'test rmse is ', 180.39534226620705)\n"
     ]
    }
   ],
   "source": [
    "for n in  layer_list:  \n",
    "    M = MLP_n(n)\n",
    "    M.fit(X_train,y_train)\n",
    "    train_rmse = sqrt(mse(M.predict(X_train),y_train))\n",
    "    test_rmse = sqrt(mse(M.predict(X_test),y_test))\n",
    "    print('For hidden layer size',n ,'training rmse is ', train_rmse ,'test rmse is ', test_rmse)"
   ]
  },
  {
   "cell_type": "markdown",
   "metadata": {},
   "source": [
    "Hidden layer size of 50 performs the best. Larger hiden layer size builds more complex model and can fit the data better thereby leading to smaller RMSE."
   ]
  },
  {
   "cell_type": "markdown",
   "metadata": {},
   "source": [
    "3) (5pts) MLPRegressor has a built-in attribute loss_curve_ which returns the loss at each epoch (misleadingly referred to as \"iteration\" in scikit documentation, though they use epoch in the actual code!). For example, if your model is named as my_model you can call it as my_model.loss_curve_ (example). Plot three curves using below conditions (a, b, c) in one figure, where X-axis is epoch number and Y-axis is squared root of loss_curve_ valu;:\n",
    "\n",
    "(a) hidden_layer_sizes = (1,)\n",
    "\n",
    "(b) hidden_layer_sizes = (5,)\n",
    "\n",
    "(c) hidden_layer_sizes = (10,)\n",
    "\n"
   ]
  },
  {
   "cell_type": "code",
   "execution_count": 12,
   "metadata": {},
   "outputs": [
    {
     "data": {
      "image/png": "[encoded data removed]",
      "text/plain": [
       "<Figure size 432x288 with 1 Axes>"
      ]
     },
     "metadata": {},
     "output_type": "display_data"
    }
   ],
   "source": [
    "layers = [1,5,10]\n",
    "for n in layers:\n",
    "    M = MLP_n(n)\n",
    "    M.fit(X_train,y_train)\n",
    "    plt.plot(M.loss_curve_ ,label = 'hidden layer size'+str(n))\n",
    "plt.legend(loc = 'best')\n",
    "plt.show()"
   ]
  },
  {
   "cell_type": "markdown",
   "metadata": {},
   "source": [
    "# Question 3 - [Kaggle Competition] Mercedes-Benz Greener Manufacturing (25 pts)"
   ]
  },
  {
   "cell_type": "markdown",
   "metadata": {},
   "source": [
    "In this problem, we are going to explore a Kaggle competition: [Mercedes-Benz Greener Manufacturing](https://www.kaggle.com/c/mercedes-benz-greener-manufacturing). Your goal is to obtain the best score you can in this competition.\n",
    "\n",
    "The first step is to make a Kaggle account. Then find this competition and read the competition details and the description of the dataset. \n",
    "\n",
    "I have converted the categorical variables to numbers. The dataset is available as **'q3_train.csv'** and **'q3_test.csv'** along with the assignment. Please use this dataset for building your models. Upload your predicted values to kaggle to get the score.\n",
    "\n",
    "Your work should meet the following requirements:\n",
    "\n",
    "1. Data Preprocessing. \n",
    " * Conduct some data preprocessing. (Hint: see if there is any outlier and remove them).\n",
    " * Impute the missing values (if any).\n",
    "\n"
   ]
  },
  {
   "cell_type": "code",
   "execution_count": 13,
   "metadata": {},
   "outputs": [
    {
     "data": {
      "text/html": [
       "<div>\n",
       "<style scoped>\n",
       "    .dataframe tbody tr th:only-of-type {\n",
       "        vertical-align: middle;\n",
       "    }\n",
       "\n",
       "    .dataframe tbody tr th {\n",
       "        vertical-align: top;\n",
       "    }\n",
       "\n",
       "    .dataframe thead th {\n",
       "        text-align: right;\n",
       "    }\n",
       "</style>\n",
       "<table border=\"1\" class=\"dataframe\">\n",
       "  <thead>\n",
       "    <tr style=\"text-align: right;\">\n",
       "      <th></th>\n",
       "      <th>ID</th>\n",
       "      <th>y</th>\n",
       "      <th>X0</th>\n",
       "      <th>X1</th>\n",
       "      <th>X2</th>\n",
       "      <th>X3</th>\n",
       "      <th>X4</th>\n",
       "      <th>X5</th>\n",
       "      <th>X6</th>\n",
       "      <th>X8</th>\n",
       "      <th>...</th>\n",
       "      <th>X375</th>\n",
       "      <th>X376</th>\n",
       "      <th>X377</th>\n",
       "      <th>X378</th>\n",
       "      <th>X379</th>\n",
       "      <th>X380</th>\n",
       "      <th>X382</th>\n",
       "      <th>X383</th>\n",
       "      <th>X384</th>\n",
       "      <th>X385</th>\n",
       "    </tr>\n",
       "  </thead>\n",
       "  <tbody>\n",
       "    <tr>\n",
       "      <th>0</th>\n",
       "      <td>0</td>\n",
       "      <td>130.81</td>\n",
       "      <td>32</td>\n",
       "      <td>23</td>\n",
       "      <td>17</td>\n",
       "      <td>0</td>\n",
       "      <td>3.0</td>\n",
       "      <td>24</td>\n",
       "      <td>9.0</td>\n",
       "      <td>14</td>\n",
       "      <td>...</td>\n",
       "      <td>0</td>\n",
       "      <td>0.0</td>\n",
       "      <td>1</td>\n",
       "      <td>0.0</td>\n",
       "      <td>0.0</td>\n",
       "      <td>0.0</td>\n",
       "      <td>0.0</td>\n",
       "      <td>0.0</td>\n",
       "      <td>0.0</td>\n",
       "      <td>0.0</td>\n",
       "    </tr>\n",
       "    <tr>\n",
       "      <th>1</th>\n",
       "      <td>6</td>\n",
       "      <td>88.53</td>\n",
       "      <td>32</td>\n",
       "      <td>21</td>\n",
       "      <td>19</td>\n",
       "      <td>4</td>\n",
       "      <td>3.0</td>\n",
       "      <td>28</td>\n",
       "      <td>11.0</td>\n",
       "      <td>14</td>\n",
       "      <td>...</td>\n",
       "      <td>1</td>\n",
       "      <td>0.0</td>\n",
       "      <td>0</td>\n",
       "      <td>0.0</td>\n",
       "      <td>0.0</td>\n",
       "      <td>0.0</td>\n",
       "      <td>0.0</td>\n",
       "      <td>0.0</td>\n",
       "      <td>0.0</td>\n",
       "      <td>0.0</td>\n",
       "    </tr>\n",
       "    <tr>\n",
       "      <th>2</th>\n",
       "      <td>7</td>\n",
       "      <td>76.26</td>\n",
       "      <td>20</td>\n",
       "      <td>24</td>\n",
       "      <td>34</td>\n",
       "      <td>2</td>\n",
       "      <td>3.0</td>\n",
       "      <td>27</td>\n",
       "      <td>9.0</td>\n",
       "      <td>23</td>\n",
       "      <td>...</td>\n",
       "      <td>0</td>\n",
       "      <td>0.0</td>\n",
       "      <td>0</td>\n",
       "      <td>0.0</td>\n",
       "      <td>0.0</td>\n",
       "      <td>0.0</td>\n",
       "      <td>0.0</td>\n",
       "      <td>0.0</td>\n",
       "      <td>0.0</td>\n",
       "      <td>0.0</td>\n",
       "    </tr>\n",
       "    <tr>\n",
       "      <th>3</th>\n",
       "      <td>9</td>\n",
       "      <td>80.62</td>\n",
       "      <td>20</td>\n",
       "      <td>21</td>\n",
       "      <td>34</td>\n",
       "      <td>5</td>\n",
       "      <td>3.0</td>\n",
       "      <td>27</td>\n",
       "      <td>11.0</td>\n",
       "      <td>4</td>\n",
       "      <td>...</td>\n",
       "      <td>0</td>\n",
       "      <td>0.0</td>\n",
       "      <td>0</td>\n",
       "      <td>0.0</td>\n",
       "      <td>0.0</td>\n",
       "      <td>0.0</td>\n",
       "      <td>0.0</td>\n",
       "      <td>0.0</td>\n",
       "      <td>0.0</td>\n",
       "      <td>0.0</td>\n",
       "    </tr>\n",
       "    <tr>\n",
       "      <th>4</th>\n",
       "      <td>13</td>\n",
       "      <td>78.02</td>\n",
       "      <td>20</td>\n",
       "      <td>23</td>\n",
       "      <td>34</td>\n",
       "      <td>5</td>\n",
       "      <td>3.0</td>\n",
       "      <td>12</td>\n",
       "      <td>3.0</td>\n",
       "      <td>13</td>\n",
       "      <td>...</td>\n",
       "      <td>0</td>\n",
       "      <td>0.0</td>\n",
       "      <td>0</td>\n",
       "      <td>0.0</td>\n",
       "      <td>0.0</td>\n",
       "      <td>0.0</td>\n",
       "      <td>0.0</td>\n",
       "      <td>0.0</td>\n",
       "      <td>0.0</td>\n",
       "      <td>0.0</td>\n",
       "    </tr>\n",
       "  </tbody>\n",
       "</table>\n",
       "<p>5 rows × 378 columns</p>\n",
       "</div>"
      ],
      "text/plain": [
       "   ID       y  X0  X1  X2  X3   X4  X5    X6  X8  ...   X375  X376  X377  \\\n",
       "0   0  130.81  32  23  17   0  3.0  24   9.0  14  ...      0   0.0     1   \n",
       "1   6   88.53  32  21  19   4  3.0  28  11.0  14  ...      1   0.0     0   \n",
       "2   7   76.26  20  24  34   2  3.0  27   9.0  23  ...      0   0.0     0   \n",
       "3   9   80.62  20  21  34   5  3.0  27  11.0   4  ...      0   0.0     0   \n",
       "4  13   78.02  20  23  34   5  3.0  12   3.0  13  ...      0   0.0     0   \n",
       "\n",
       "   X378  X379  X380  X382  X383  X384  X385  \n",
       "0   0.0   0.0   0.0   0.0   0.0   0.0   0.0  \n",
       "1   0.0   0.0   0.0   0.0   0.0   0.0   0.0  \n",
       "2   0.0   0.0   0.0   0.0   0.0   0.0   0.0  \n",
       "3   0.0   0.0   0.0   0.0   0.0   0.0   0.0  \n",
       "4   0.0   0.0   0.0   0.0   0.0   0.0   0.0  \n",
       "\n",
       "[5 rows x 378 columns]"
      ]
     },
     "execution_count": 13,
     "metadata": {},
     "output_type": "execute_result"
    }
   ],
   "source": [
    "import pandas as pd\n",
    "train = pd.read_csv('q3_train.csv') \n",
    "test = pd.read_csv('q3_test.csv') \n",
    "\n",
    "#IQR score to filter out the outliers by keeping only valid values.\n",
    "Q1 = train.quantile(0.25)\n",
    "Q3 = train.quantile(0.75)\n",
    "IQR = Q3 - Q1\n",
    "train_no_outlier = train[(train >= (Q1 - 1.5 * IQR)) & (train <= (Q3 + 1.5 * IQR))]\n",
    "\n",
    "#Impute missing values with mean of each column\n",
    "train_1 = train_no_outlier.fillna(train_no_outlier.mean())\n",
    "train_1.head()"
   ]
  },
  {
   "cell_type": "markdown",
   "metadata": {},
   "source": [
    " \n",
    "2. Predictive Models. \n",
    " * You have to create three models: Lasso regression, Ridge regression and multilayer perceptron. For Lasso and Ridge regression, optimize the alphas using cross validation. Multilayer perceptron can have one hidden layer. You may try other predictive models to get better scores (optional). \n"
   ]
  },
  {
   "cell_type": "code",
   "execution_count": 14,
   "metadata": {},
   "outputs": [],
   "source": [
    "#create x_train and y_train\n",
    "x_train = train_1.drop('y', axis=1)\n",
    "x_train = x_train.drop('ID', axis=1)\n",
    "y_train = train_1[\"y\"]\n",
    "x_test = test.drop('ID', axis=1)"
   ]
  },
  {
   "cell_type": "code",
   "execution_count": 16,
   "metadata": {},
   "outputs": [
    {
     "data": {
      "text/plain": [
       "{'alpha': 0.005487493827465273}"
      ]
     },
     "execution_count": 16,
     "metadata": {},
     "output_type": "execute_result"
    }
   ],
   "source": [
    "#Lasso Regression\n",
    "import numpy as np\n",
    "import matplotlib.pyplot as plt\n",
    "from sklearn import datasets\n",
    "from sklearn.linear_model import LassoCV\n",
    "from sklearn.linear_model import Lasso\n",
    "from sklearn.model_selection import KFold\n",
    "from sklearn.model_selection import GridSearchCV\n",
    "from sklearn.metrics import mean_absolute_error\n",
    "\n",
    "alphas =  10**np.linspace(10,-6,100)*0.5\n",
    "tuned_parameters = [{'alpha': alphas}]\n",
    "n_folds = 5\n",
    "\n",
    "lasso = Lasso(random_state=0)\n",
    "clf_lasso = GridSearchCV(lasso, tuned_parameters, scoring='neg_mean_absolute_error', cv=n_folds, refit=False)\n",
    "clf_lasso.fit(x_train, y_train)\n",
    "clf_lasso.best_params_"
   ]
  },
  {
   "cell_type": "code",
   "execution_count": 17,
   "metadata": {},
   "outputs": [
    {
     "name": "stdout",
     "output_type": "stream",
     "text": [
      "             y\n",
      "ID            \n",
      "1    78.090955\n",
      "2    94.992014\n",
      "3    80.211008\n",
      "4    77.634679\n",
      "5   109.251576\n"
     ]
    }
   ],
   "source": [
    "#Run Lasso\n",
    "import pandas as pd\n",
    "from pandas import DataFrame\n",
    "from sklearn import linear_model\n",
    "lasso = linear_model.Lasso(alpha =  0.005487493827465273)\n",
    "lasso.fit(x_train, y_train)\n",
    "lasso_pred = lasso.predict(x_test)\n",
    "lasso_df = DataFrame(lasso_pred.reshape(-1, 1), columns = ['y'], index = test['ID'])\n",
    "print(lasso_df.head())\n",
    "lasso_df.to_csv('lasso__df.csv')"
   ]
  },
  {
   "cell_type": "code",
   "execution_count": 18,
   "metadata": {},
   "outputs": [
    {
     "data": {
      "text/plain": [
       "{'alpha': 0.32896661232878277}"
      ]
     },
     "execution_count": 18,
     "metadata": {},
     "output_type": "execute_result"
    }
   ],
   "source": [
    "#Ridge Regression\n",
    "from sklearn.linear_model import RidgeCV\n",
    "from sklearn.linear_model import Ridge\n",
    "from sklearn.metrics import mean_absolute_error\n",
    "\n",
    "ridge = Ridge(random_state=0)\n",
    "clf_ridge = GridSearchCV(ridge, tuned_parameters, scoring='neg_mean_absolute_error',cv=n_folds, refit=False)\n",
    "clf_ridge.fit(x_train, y_train)\n",
    "clf_ridge.best_params_\n"
   ]
  },
  {
   "cell_type": "code",
   "execution_count": 19,
   "metadata": {},
   "outputs": [
    {
     "name": "stdout",
     "output_type": "stream",
     "text": [
      "             y\n",
      "ID            \n",
      "1    78.217161\n",
      "2    95.124130\n",
      "3    80.139801\n",
      "4    77.788940\n",
      "5   109.311284\n"
     ]
    }
   ],
   "source": [
    "# Run Ridge\n",
    "import pandas as pd\n",
    "from pandas import DataFrame\n",
    "ridge = linear_model.Ridge(alpha = 0.32896661232878277)\n",
    "ridge.fit(x_train, y_train)\n",
    "ridge_pred = ridge.predict(x_test)\n",
    "ridge_df = DataFrame(ridge_pred.reshape(-1, 1), columns = ['y'], index = test['ID'])\n",
    "print(ridge_df.head())\n",
    "ridge_df.to_csv('ridge__df.csv')"
   ]
  },
  {
   "cell_type": "code",
   "execution_count": 20,
   "metadata": {},
   "outputs": [
    {
     "name": "stdout",
     "output_type": "stream",
     "text": [
      "('For hidden layer size', 5, 'rmse is ', 7.747367349184678)\n",
      "('For hidden layer size', 10, 'rmse is ', 7.50624229046791)\n",
      "('For hidden layer size', 15, 'rmse is ', 7.442535773414533)\n",
      "('For hidden layer size', 20, 'rmse is ', 7.4154584761198254)\n",
      "('For hidden layer size', 25, 'rmse is ', 7.427369442408116)\n",
      "('For hidden layer size', 30, 'rmse is ', 7.463918489261136)\n",
      "('For hidden layer size', 35, 'rmse is ', 7.4858765490816594)\n",
      "('For hidden layer size', 40, 'rmse is ', 7.538244264708169)\n",
      "('For hidden layer size', 45, 'rmse is ', 7.588129740145539)\n",
      "('For hidden layer size', 50, 'rmse is ', 7.632069957059276)\n",
      "('For hidden layer size', 55, 'rmse is ', 7.693375615359578)\n"
     ]
    }
   ],
   "source": [
    "#Multilayer Perception\n",
    "from sklearn.neural_network import MLPRegressor\n",
    "import math\n",
    "from math import sqrt\n",
    "from sklearn.metrics import mean_squared_error\n",
    "\n",
    "scaler = StandardScaler()\n",
    "X_train = scaler.fit_transform(x_train)\n",
    "X_test = scaler.fit_transform(x_test)\n",
    "kf = KFold(n_splits=5, random_state=42)\n",
    "kf.get_n_splits(X_train)\n",
    "kf.split(X_train)\n",
    "\n",
    "#try on different layer size based on RMSE of the model\n",
    "layer_list = [5,10,15,20,25,30,35,40,45,50,55]\n",
    "def MLP_n(n):\n",
    "    return MLPRegressor( hidden_layer_sizes = (n,),activation = 'tanh', solver = 'sgd', \n",
    "                 learning_rate='constant', random_state=42,batch_size=30, learning_rate_init = 0.005)\n",
    "rmse_list = []\n",
    "for n in  layer_list:  \n",
    "    for train, test in kf.split(X_train):\n",
    "        M = MLP_n(n)\n",
    "        M.fit(X_train[train],y_train[train])\n",
    "        rmse_list.append (sqrt(mean_squared_error(M.predict(X_train[test]),y_train[test])))\n",
    "    print('For hidden layer size',n ,'rmse is ', np.mean(rmse_list))\n"
   ]
  },
  {
   "cell_type": "code",
   "execution_count": null,
   "metadata": {},
   "outputs": [],
   "source": [
    "#choose hidden layer size = 20\n",
    "N = MLPRegressor( hidden_layer_sizes = (20,),activation = 'tanh', solver = 'adam', \n",
    "                 learning_rate='constant', random_state=42,batch_size=30, learning_rate_init = 0.005)\n",
    "N.fit(X_train,y_train)\n",
    "mlp_pred = N.predict(x_test)\n",
    "mlp_df = DataFrame(mlp_pred.reshape(-1, 1), columns = ['y'], index = test['ID'])\n",
    "mlp_df.to_csv('mlp_df.csv')"
   ]
  },
  {
   "cell_type": "markdown",
   "metadata": {},
   "source": [
    "3. Get a score of 0.51 or higher on the **Private Leaderboard**. Take a screenshot of your private score after submission as proof. You can click My Submissions tab to see the history of your submissions. It will show both Public Leaderboard & Private Leaderboard score. Your highes score should be visible in the screenshot.\n"
   ]
  },
  {
   "cell_type": "markdown",
   "metadata": {},
   "source": [
    "Kaggle Team Name: Tianxin & Rulan\n",
    "\n",
    "The following screenshot shows the private score, 0.52786 on our prediction by Lasso Model. This score is the highest among the 3 models that we tried, including Lasso, Ridge, and NLP.\n",
    "\n",
    "We took the following steps in the process:\n",
    "1. Data Cleaning: We computed IQR score to filter out the outliers in the data by keeping only valid values. Then we imputed missing values with mean of each column.\n",
    "2. We created x_train and y_train.\n",
    "3. We fitted Lasso and Ridge Model on the data and predicted y values in test set. (Cross validation to get best alpha)\n",
    "4. We fitted MLP Model on the data and picked the hidden layer size of 20 based on RMSE, and then predicted y values in test set.\n",
    "5. We submitted the predicting results generated by 3 models repectively to Kaggle. Two of the models were scored above 0.51."
   ]
  },
  {
   "cell_type": "code",
   "execution_count": 26,
   "metadata": {},
   "outputs": [
    {
     "data": {
      "image/png": "[encoded data removed]",
      "text/plain": [
       "<IPython.core.display.Image object>"
      ]
     },
     "execution_count": 26,
     "metadata": {},
     "output_type": "execute_result"
    }
   ],
   "source": [
    "from IPython.display import Image\n",
    "Image(\"Screen Shot 2018-10-25 at 10.09.50 PM.png\")"
   ]
  },
  {
   "cell_type": "markdown",
   "metadata": {},
   "source": [
    "# Question 4 - Bayes Decision Theory (10pts)"
   ]
  },
  {
   "cell_type": "markdown",
   "metadata": {},
   "source": [
    "a. (2pts) Explain what you understand by class-conditional likelihood, class priors, and posterior probability of a class given an input, and the relationship between them. Please define all symbols and equations used explicitly.\n",
    "\n",
    "b. (5pts) Suppose you want to learn a binary classifier to predict whether or not a customer will buy a TV. The class label is 0 if the patient does not buy and 1 if he/she does. For each customer, you are given two features, x1 is the per hour salary and x2 is the age. Assume that the class conditional distribution $p(x_1,x_2|C)$ is Gaussian. The mean salary and age of the people who do buy a TV is 40 and 27 respectively and that of those who don't is 16 and 20. Assume that both classes of customers have the same covariance given by the Identity matrix. Further, your sales data suggests that only 1 in 5 people actually bought a TV in the last few years. Mathematically derive the (optimal) Bayes decision boundary for this problem.\n",
    "\n",
    "c. (3pts) Write a script to sample 100 customers from each class (C = 0; 1) under the assumed distribution and the estimated parameters and plot their features. Plot the decision boundary you obtained in the part (b) on the same plot."
   ]
  },
  {
   "cell_type": "markdown",
   "metadata": {},
   "source": [
    "## Answer"
   ]
  },
  {
   "cell_type": "markdown",
   "metadata": {},
   "source": [
    "## a)\n",
    "$p(x|C_i)$ Class-conditional likelihood is the distribution of the input as a varibale given the class.\n",
    "\n",
    "$p(C_i)$ Class priors are the unconditional likelihood of one class.\n",
    "\n",
    "$p(C_i|x)$ Posterior probability is the likelihood of one class given an input.\n",
    "\n",
    "$p(C_i|x)=p(x|C_i)p(C_i)/p(x)$ The equation means if one class is unconditionally more frequent, the input in this class is more frequent and the the input in any class is less frequent, then the object with the input is more likely to be one of the class.\n",
    "\n",
    "## b)\n",
    "$p(C_1|x)=\\frac{1}{5}p(x|C_1)/p(x)$ \n",
    "\n",
    "$p(C_0|x)=\\frac{4}{5}p(x|C_0)/p(x)$ \n",
    "\n",
    "To compute boundary:\n",
    "\n",
    "$p(C_1|x) = p(C_0|x)$(1)\n",
    "\n",
    "$p(x|C_1) = 4p(x|C_0)$\n",
    "\n",
    "$p(x|C_1) = 2\\pi exp(-\\frac{1}{2}(x_1-40)^2+(x_2-27)^2)$\n",
    "\n",
    "$p(x|C_0) = 2\\pi exp(-\\frac{1}{2}(x_1-16)^2+(x_2-20)^2)$\n",
    "\n",
    "The boundary is a straight line:\n",
    "\n",
    "$48x_1+14x_2 = 1673+2ln4$\n"
   ]
  },
  {
   "cell_type": "code",
   "execution_count": 27,
   "metadata": {},
   "outputs": [
    {
     "data": {
      "text/plain": [
       "Text(0,0.5,'Age')"
      ]
     },
     "execution_count": 27,
     "metadata": {},
     "output_type": "execute_result"
    },
    {
     "data": {
      "image/png": "[encoded data removed]",
      "text/plain": [
       "<Figure size 432x288 with 1 Axes>"
      ]
     },
     "metadata": {},
     "output_type": "display_data"
    }
   ],
   "source": [
    "mean = (16, 20)\n",
    "cov = [[1, 0], [0, 1]]\n",
    "C1 = np.random.multivariate_normal(mean, cov, 100)\n",
    "df1 = pd.DataFrame(np.array(C1))\n",
    "\n",
    "mean = (40, 27)\n",
    "C2 = np.random.multivariate_normal(mean, cov, 100)\n",
    "df2 = pd.DataFrame(np.array(C2))\n",
    "\n",
    "plt.scatter(df1[0],df1[1],label = 'C1')\n",
    "plt.scatter(df2[0],df2[1],label = 'C0')\n",
    "\n",
    "plt.plot(*zip(*[[i, (1675.8-14*i)/48] for i in range(5,45)]))\n",
    "plt.legend(loc='best')\n",
    "plt.xlabel('Salary')\n",
    "plt.ylabel('Age')"
   ]
  }
 ],
 "metadata": {
  "kernelspec": {
   "display_name": "Python 2",
   "language": "python",
   "name": "python2"
  },
  "language_info": {
   "codemirror_mode": {
    "name": "ipython",
    "version": 2
   },
   "file_extension": ".py",
   "mimetype": "text/x-python",
   "name": "python",
   "nbconvert_exporter": "python",
   "pygments_lexer": "ipython2",
   "version": "2.7.15"
  }
 },
 "nbformat": 4,
 "nbformat_minor": 2
}
