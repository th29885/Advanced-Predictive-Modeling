{
 "cells": [
  {
   "cell_type": "markdown",
   "metadata": {},
   "source": [
    "## Rulan Pan (rp33973), Tianxin Huang(th29885)"
   ]
  },
  {
   "cell_type": "markdown",
   "metadata": {},
   "source": [
    "\n",
    "# <p style=\"text-align: center;\">MIS 382N: ADVANCED PREDICTIVE MODELING - MSBA</p>\n",
    "# <p style=\"text-align: center;\">Assignment 1</p>\n",
    "## <p style=\"text-align: center;\">Total points: 80</p>\n",
    "## <p style=\"text-align: center;\">Due: Tuesday, September 18 submitted via Canvas by 11:59 pm</p>\n",
    "\n",
    "Your homework should be written in a **Jupyter notebook**. You may work in groups of two if you wish. Only one student per team needs to submit the assignment on Canvas.  But be sure to include name and UTEID for both students.  Homework groups will be created and managed through Canvas, so please do not arbitrarily change your homework group. If you do change, let the TA know.  \n",
    "\n",
    "Also, please make sure your code runs and the graphics (and anything else) are displayed in your notebook before submitting. (%matplotlib inline)"
   ]
  },
  {
   "cell_type": "markdown",
   "metadata": {},
   "source": [
    "# Question 1: Challenges in Data Science (10 pts)\n",
    "\n",
    "Refer to the Domino guide under Modules --> Additional Resources\n",
    "\n",
    "Section 2 describes 8 Challenges. You may have personally encountered or heard of somebody else who encountered some of these challenge. If so,  please write 1-2 paragraphs on what situation was encountered and how it mapped into one the mentioned challenges. If not, think of a hypothetical case and do the same exercise. \n",
    "\n",
    "\n",
    "## Answer\n",
    "2 hypothetical cases and 1 real-life cases regarding 3 different challenges:\n",
    "\n",
    "Hypothetical case (a)-- solving the wrong problem. Suppose a model is built within a company, which predicts whether a new product with certain attributes would sell well. However, the model solves the wrong problem because the company cares more about the net profit than the sales volume. In some cases, launching a popular new product brings about cannibalism among exisiting products produced by the same company, which finally results in decreasing profit. Hypothetical case (b)-- solving the right problem too late for it to matter. A package for R is designed and it makes it easy for cars to implement automatic pilot. However, at the time when it is built, few people use R to develop AI. Instead, new languages are already created in this realm even though they could not solve the problem as smart as the package on R does. Therefore, nobody will care the package based on R.\n",
    "\n",
    "Besides, a real-life challenge we have encountered is solving the right problem, but unfortunately in a wrong way. My team were using Python to analyze the Costa Rican Poverty data to identify the factors that matter most for household poverty. We cleaned the data and then built up several models like logistic regression, random foret and naive bayes where we put all of our variables in. However, as we thought we have figured out the problem, we found that lots of the variables in the original dataset were actually based on individuals' attributes instead of the household as a whole. Therefore, we had to redo the models by reselecting the variables that summarized the feautures of a household rather than an individual. Based on that experience, we learnt that so as to solve the right problem in the right way, we have to do enough data preparation work. Realizing that we have gone in a wrong way in the middle of or after finishing our work is a waste of time and energy.\n"
   ]
  },
  {
   "cell_type": "markdown",
   "metadata": {},
   "source": [
    "# Question 2: Maximum likelihood estimate (10 pts)\n",
    "\n",
    "Prove the statement on slide 3 of notes on MLR:\n",
    "\"Then minimizing Mean Squared Error (MSE) on the training data (which you can do using OLS) yields the Maximum Likelihood Estimate (MLE) solution of the assumed generative model.\"\n",
    "\n",
    "\n",
    "## Answer\n",
    "\n",
    "Assume $Y=f_\\theta(X)+\\epsilon$ and $\\epsilon\\sim N(0,\\theta^2)$\n",
    "\n",
    "Also $y_i=f_\\theta(x_i)+\\epsilon_i $ and $\\epsilon_i\\sim N(0,\\theta^2)$\n",
    "\n",
    "Then $y_i\\sim N(f_\\theta(x_i),\\theta^2)$\n",
    "\n",
    "$f(y_i|x_i;\\sigma^2)=(2\\pi\\sigma^2)^{-\\frac{1}{2}}exp(-\\frac{1}{2\\sigma^2}(y_i-f_\\theta(x_i))^2)$ \n",
    "\n",
    "Likelihood: $L(\\theta)=ln P(Y|X,\\theta)=\\sum_{i=1}^nlnP(y_i|x_i;\\theta)=\\sum_{i=1}^nlnf(y_i|x_i;\\theta)= -\\frac{n}{2}ln(2\\pi\\sigma^2)-\\frac{1}{2\\sigma^2}(y_i-f_\\theta(x_i))^2$(1)\n",
    "\n",
    "To maximize (1), we need to choose $\\theta$ to minimize$ (y_i-f_\\theta(x_i))^2$\n",
    "\n",
    "MSE : $~~$$MSE=\\frac{1}{n}[y_i-x_i\\beta]=\\frac{1}{n}(y_i-f_\\theta(x_i))^2$ (2)\n",
    "\n",
    "In OLS we choose $\\theta$ to minimize (2)\n",
    "\n",
    "So the  θ  from (1)(2) is of the same value, which proves that minimizing Mean Squared Error (MSE) on the training data (which you can do using OLS) yields the Maximum Likelihood Estimate (MLE) solution of the assumed generative model."
   ]
  },
  {
   "cell_type": "markdown",
   "metadata": {},
   "source": [
    "# Question 3: Collinearity Issues (5 pts)\n",
    "\n",
    "What is the “collinearity” issue encountered in MLR? Why is this a problem when you try to use MLR?\n",
    "Suggest one way of addressing this problem.\n",
    "\n",
    "\n",
    "## Answer\n",
    "In MLR, two variables (e.g., x1 and x2) are said to be collinear if they are approximately or exactly linearly dependent. Correlated variables mean that the change in one variable will be associated with the change in another.\n",
    "It is a problem because collinearity can affect our interpretation of a multiple regression.\n",
    "Also they inflate the standard errors for the regression coefficients so we are less certain about them. The problem will also cause the precision of the estimate coefficients to reduce. Based on different independent variables used in the model, the coefficient estimates may significantly differ, which means that the coefficients will be very sensitive to even small changes of variables in the model.\n",
    "\n",
    "We can use three ways to address this problem.\n",
    "1. Select a subset of all independent variables using stepwise regression: add one variable at the time until no remaining variables makes a significant contribution. During each step, also try to delete variables if no harms is caused.\n",
    "\n",
    "2. Use all independent variables but damp them with Ridge or Lasso Regression, which is to say give penalty to new variables. Some variables are removed due to too much penalty.\n",
    "\n",
    "3. Summarize the information in the predictors into a smaller set of variables using principal component analysis and partial least squares."
   ]
  },
  {
   "cell_type": "markdown",
   "metadata": {},
   "source": [
    "# Question 4: Multiple Linear Regression in Python (20 pts)\n",
    "\n",
    "Use the following code to import the allstate-claims-severity dataset and linear models in python. The dataset is taken from https://www.kaggle.com/c/allstate-claims-severity I have removed the categorical variables to make it easier to run the models. Because of this, MAE (Mean absolute error) will be on higher end compared to other Kaggle entries. Please donwload the dataset \"reduced_train.csv\" and use it.\n",
    "\n"
   ]
  },
  {
   "cell_type": "code",
   "execution_count": 1,
   "metadata": {},
   "outputs": [],
   "source": [
    "from sklearn import linear_model\n",
    "from sklearn.metrics import mean_squared_error, mean_absolute_error\n",
    "import numpy as np\n",
    "import pandas as pd\n",
    "\n",
    "train_df = pd.read_csv(\"reduced_train.csv\")\n",
    "\n",
    "X = train_df.drop(['id','loss'],axis=1)\n",
    "Y = train_df['loss']"
   ]
  },
  {
   "cell_type": "markdown",
   "metadata": {},
   "source": [
    "a. (2 pts) Print the shape (number of rows and columns) of the feature matrix X, and print the first 5 rows.\n",
    "\n",
    "b.  (6 pts) Using ordinary least squares, fit a multiple linear regression (MLR) on all the feature variables using the entire dataset. Report the regression coefficient of each input feature and evaluate the model using mean absolute error (MAE).  Example of ordinary least squares in Python is shown in Section 1.1.1 of http://scikit-learn.org/stable/modules/linear_model.html.\n",
    "\n",
    "c.  (6 pts) Split the data into a training set and a test set, using the train_test_split with test_size = 0.30 and random_state = 50. The code for this is given below. Fit an MLR using the training set.  Evaluate the trained model using the training set and the test set, respectively.  Compare the two MAE values thus obtained.\n",
    "\n",
    "d.  (6 pts) Plot the histogram of Y_train and see its distribution. Now take log of Y_train and plot its histogram. Now run regression again after taking log and compare the MAE. You need to do np.exp(predictions) to bring them back to original scale, and then calculate MAE. Explain the results."
   ]
  },
  {
   "cell_type": "markdown",
   "metadata": {},
   "source": [
    "## Answer\n",
    "\n"
   ]
  },
  {
   "cell_type": "code",
   "execution_count": 2,
   "metadata": {},
   "outputs": [
    {
     "name": "stdout",
     "output_type": "stream",
     "text": [
      "number of rows  188318\n",
      "number of columns  14\n"
     ]
    },
    {
     "data": {
      "text/html": [
       "<div>\n",
       "<style scoped>\n",
       "    .dataframe tbody tr th:only-of-type {\n",
       "        vertical-align: middle;\n",
       "    }\n",
       "\n",
       "    .dataframe tbody tr th {\n",
       "        vertical-align: top;\n",
       "    }\n",
       "\n",
       "    .dataframe thead th {\n",
       "        text-align: right;\n",
       "    }\n",
       "</style>\n",
       "<table border=\"1\" class=\"dataframe\">\n",
       "  <thead>\n",
       "    <tr style=\"text-align: right;\">\n",
       "      <th></th>\n",
       "      <th>cont1</th>\n",
       "      <th>cont2</th>\n",
       "      <th>cont3</th>\n",
       "      <th>cont4</th>\n",
       "      <th>cont5</th>\n",
       "      <th>cont6</th>\n",
       "      <th>cont7</th>\n",
       "      <th>cont8</th>\n",
       "      <th>cont9</th>\n",
       "      <th>cont10</th>\n",
       "      <th>cont11</th>\n",
       "      <th>cont12</th>\n",
       "      <th>cont13</th>\n",
       "      <th>cont14</th>\n",
       "    </tr>\n",
       "  </thead>\n",
       "  <tbody>\n",
       "    <tr>\n",
       "      <th>0</th>\n",
       "      <td>0.726300</td>\n",
       "      <td>0.245921</td>\n",
       "      <td>0.187583</td>\n",
       "      <td>0.789639</td>\n",
       "      <td>0.310061</td>\n",
       "      <td>0.718367</td>\n",
       "      <td>0.335060</td>\n",
       "      <td>0.30260</td>\n",
       "      <td>0.67135</td>\n",
       "      <td>0.83510</td>\n",
       "      <td>0.569745</td>\n",
       "      <td>0.594646</td>\n",
       "      <td>0.822493</td>\n",
       "      <td>0.714843</td>\n",
       "    </tr>\n",
       "    <tr>\n",
       "      <th>1</th>\n",
       "      <td>0.330514</td>\n",
       "      <td>0.737068</td>\n",
       "      <td>0.592681</td>\n",
       "      <td>0.614134</td>\n",
       "      <td>0.885834</td>\n",
       "      <td>0.438917</td>\n",
       "      <td>0.436585</td>\n",
       "      <td>0.60087</td>\n",
       "      <td>0.35127</td>\n",
       "      <td>0.43919</td>\n",
       "      <td>0.338312</td>\n",
       "      <td>0.366307</td>\n",
       "      <td>0.611431</td>\n",
       "      <td>0.304496</td>\n",
       "    </tr>\n",
       "    <tr>\n",
       "      <th>2</th>\n",
       "      <td>0.261841</td>\n",
       "      <td>0.358319</td>\n",
       "      <td>0.484196</td>\n",
       "      <td>0.236924</td>\n",
       "      <td>0.397069</td>\n",
       "      <td>0.289648</td>\n",
       "      <td>0.315545</td>\n",
       "      <td>0.27320</td>\n",
       "      <td>0.26076</td>\n",
       "      <td>0.32446</td>\n",
       "      <td>0.381398</td>\n",
       "      <td>0.373424</td>\n",
       "      <td>0.195709</td>\n",
       "      <td>0.774425</td>\n",
       "    </tr>\n",
       "    <tr>\n",
       "      <th>3</th>\n",
       "      <td>0.321594</td>\n",
       "      <td>0.555782</td>\n",
       "      <td>0.527991</td>\n",
       "      <td>0.373816</td>\n",
       "      <td>0.422268</td>\n",
       "      <td>0.440945</td>\n",
       "      <td>0.391128</td>\n",
       "      <td>0.31796</td>\n",
       "      <td>0.32128</td>\n",
       "      <td>0.44467</td>\n",
       "      <td>0.327915</td>\n",
       "      <td>0.321570</td>\n",
       "      <td>0.605077</td>\n",
       "      <td>0.602642</td>\n",
       "    </tr>\n",
       "    <tr>\n",
       "      <th>4</th>\n",
       "      <td>0.273204</td>\n",
       "      <td>0.159990</td>\n",
       "      <td>0.527991</td>\n",
       "      <td>0.473202</td>\n",
       "      <td>0.704268</td>\n",
       "      <td>0.178193</td>\n",
       "      <td>0.247408</td>\n",
       "      <td>0.24564</td>\n",
       "      <td>0.22089</td>\n",
       "      <td>0.21230</td>\n",
       "      <td>0.204687</td>\n",
       "      <td>0.202213</td>\n",
       "      <td>0.246011</td>\n",
       "      <td>0.432606</td>\n",
       "    </tr>\n",
       "  </tbody>\n",
       "</table>\n",
       "</div>"
      ],
      "text/plain": [
       "      cont1     cont2     cont3     cont4     cont5     cont6     cont7  \\\n",
       "0  0.726300  0.245921  0.187583  0.789639  0.310061  0.718367  0.335060   \n",
       "1  0.330514  0.737068  0.592681  0.614134  0.885834  0.438917  0.436585   \n",
       "2  0.261841  0.358319  0.484196  0.236924  0.397069  0.289648  0.315545   \n",
       "3  0.321594  0.555782  0.527991  0.373816  0.422268  0.440945  0.391128   \n",
       "4  0.273204  0.159990  0.527991  0.473202  0.704268  0.178193  0.247408   \n",
       "\n",
       "     cont8    cont9   cont10    cont11    cont12    cont13    cont14  \n",
       "0  0.30260  0.67135  0.83510  0.569745  0.594646  0.822493  0.714843  \n",
       "1  0.60087  0.35127  0.43919  0.338312  0.366307  0.611431  0.304496  \n",
       "2  0.27320  0.26076  0.32446  0.381398  0.373424  0.195709  0.774425  \n",
       "3  0.31796  0.32128  0.44467  0.327915  0.321570  0.605077  0.602642  \n",
       "4  0.24564  0.22089  0.21230  0.204687  0.202213  0.246011  0.432606  "
      ]
     },
     "execution_count": 2,
     "metadata": {},
     "output_type": "execute_result"
    }
   ],
   "source": [
    "# a\n",
    "print ('number of rows ',len(X))\n",
    "print ('number of columns ',len(X.columns))\n",
    "X[:5]"
   ]
  },
  {
   "cell_type": "code",
   "execution_count": 3,
   "metadata": {},
   "outputs": [
    {
     "name": "stdout",
     "output_type": "stream",
     "text": [
      "coefficient:  [-2137.11121171  1762.2406163    -56.57968487  -301.1729806\n",
      "    30.03201819  -557.22509919  1707.95520608   298.61240614\n",
      "  2049.37910438  -250.01986129 -1732.34887444  2724.38985824\n",
      "  -631.30128902   273.62600504]\n"
     ]
    },
    {
     "name": "stderr",
     "output_type": "stream",
     "text": [
      "/Users/tammy/anaconda2/envs/Python3/lib/python3.6/site-packages/sklearn/linear_model/base.py:509: RuntimeWarning: internal gelsd driver lwork query error, required iwork dimension not returned. This is likely the result of LAPACK bug 0038, fixed in LAPACK 3.2.2 (released July 21, 2010). Falling back to 'gelss' driver.\n",
      "  linalg.lstsq(X, y)\n"
     ]
    },
    {
     "data": {
      "text/plain": [
       "1950.3606265639944"
      ]
     },
     "execution_count": 3,
     "metadata": {},
     "output_type": "execute_result"
    }
   ],
   "source": [
    "# b\n",
    "reg = linear_model.LinearRegression()\n",
    "reg.fit (X, Y)\n",
    "print ('coefficient: ',reg.coef_)\n",
    "\n",
    "# Make predictions\n",
    "Y_pred = reg.predict(X)\n",
    "\n",
    "# Mean absolute error\n",
    "sum(abs(Y-Y_pred))/len(Y)"
   ]
  },
  {
   "cell_type": "code",
   "execution_count": 4,
   "metadata": {},
   "outputs": [
    {
     "name": "stdout",
     "output_type": "stream",
     "text": [
      "train MAE :\n",
      " 1946.9866773014671 \n",
      "test  MAE :\n",
      " 1954.11105959615\n"
     ]
    }
   ],
   "source": [
    "# c \n",
    "from sklearn.model_selection import train_test_split\n",
    "\n",
    "X_train, X_test, Y_train, Y_test = train_test_split(X,Y,test_size = 0.30, random_state=50)\n",
    "\n",
    "reg = linear_model.LinearRegression()\n",
    "reg.fit (X_train, Y_train)\n",
    "\n",
    "# Make predictions\n",
    "Y_tr_pred = reg.predict(X_train)\n",
    "# Mean absolute error\n",
    "maetr = sum(abs(Y_train-Y_tr_pred))/len(Y_train)\n",
    "\n",
    "# Make predictions\n",
    "Y_te_pred = reg.predict(X_test)\n",
    "# Mean absolute error\n",
    "maete = sum(abs(Y_test-Y_te_pred))/len(Y_test)\n",
    "\n",
    "print('train MAE :\\n', maetr,'\\n'\n",
    "      'test  MAE :\\n', maete)"
   ]
  },
  {
   "cell_type": "markdown",
   "metadata": {},
   "source": [
    "Model fits on training data very well but model does not fit test data very well"
   ]
  },
  {
   "cell_type": "code",
   "execution_count": 5,
   "metadata": {},
   "outputs": [
    {
     "name": "stdout",
     "output_type": "stream",
     "text": [
      "Populating the interactive namespace from numpy and matplotlib\n"
     ]
    },
    {
     "data": {
      "text/plain": [
       "Text(0,0.5,'Frequency')"
      ]
     },
     "execution_count": 5,
     "metadata": {},
     "output_type": "execute_result"
    },
    {
     "data": {
      "image/png": "[encoded data removed]",
      "text/plain": [
       "<Figure size 432x288 with 1 Axes>"
      ]
     },
     "metadata": {
      "needs_background": "light"
     },
     "output_type": "display_data"
    }
   ],
   "source": [
    "# d\n",
    "# Plot the histogram of Y_train and see its distribution. \n",
    "%pylab inline\n",
    "Y_train.hist(bins=100)\n",
    "xlabel('Y_train')\n",
    "ylabel('Frequency')"
   ]
  },
  {
   "cell_type": "code",
   "execution_count": 6,
   "metadata": {},
   "outputs": [
    {
     "data": {
      "text/plain": [
       "Text(0,0.5,'Frequency')"
      ]
     },
     "execution_count": 6,
     "metadata": {},
     "output_type": "execute_result"
    },
    {
     "data": {
      "image/png": "[encoded data removed]",
      "text/plain": [
       "<Figure size 432x288 with 1 Axes>"
      ]
     },
     "metadata": {
      "needs_background": "light"
     },
     "output_type": "display_data"
    }
   ],
   "source": [
    "# Now take log of Y_train and plot its histogram. \n",
    "log(Y_train).hist(bins=50)\n",
    "xlabel('log(Y)_train')\n",
    "ylabel('Frequency')"
   ]
  },
  {
   "cell_type": "code",
   "execution_count": 14,
   "metadata": {},
   "outputs": [
    {
     "name": "stdout",
     "output_type": "stream",
     "text": [
      "train MAE :\n",
      " 1797.4369165421042 \n",
      "\n"
     ]
    }
   ],
   "source": [
    "# Now run regression again after taking log and compare the MAE. \n",
    "# do np.exp(predictions) to bring them back to original scale, \n",
    "# then calculate MAE. Explain the results.\n",
    "from sklearn.metrics import mean_absolute_error\n",
    "\n",
    "reg_l = linear_model.LinearRegression()\n",
    "reg_l.fit (X_train, log(Y_train))\n",
    "\n",
    "# Make predictions\n",
    "Y_tr_pred = np.exp(reg_l.predict(X_train))\n",
    "\n",
    "# Mean absolute error\n",
    "maetr = sum(abs(Y_train-Y_tr_pred))/len(Y_train)\n",
    "\n",
    "print('train MAE :\\n', maetr,'\\n')"
   ]
  },
  {
   "cell_type": "code",
   "execution_count": 24,
   "metadata": {},
   "outputs": [
    {
     "name": "stdout",
     "output_type": "stream",
     "text": [
      "Explanation: MAE decreases after taking log of y. It is becasue the scale of y becomes smaller than before so that a change in X will relatively affect less on y after it is taken log. \n"
     ]
    }
   ],
   "source": [
    "print ('Explanation: MAE decreases after taking log of y. It is becasue the scale of y becomes smaller than before so that a change in X will relatively affect less on y after it is taken log. ')"
   ]
  },
  {
   "cell_type": "markdown",
   "metadata": {},
   "source": [
    "# Question 5: Ridge and Lasso Regression (25 points)\n"
   ]
  },
  {
   "cell_type": "markdown",
   "metadata": {},
   "source": [
    "Using the same data from before, in this question you will explore the application of Lasso and Ridge regression using sklearn package in Python. Split the data into a training set and a test set, using the train_test_split with test_size = 0.30 and random_state = 50. Take log of the Y_train and use it for training."
   ]
  },
  {
   "cell_type": "markdown",
   "metadata": {},
   "source": [
    "1) Use sklearn.linear_model.Lasso and sklearn.linear_model.Ridge classes to do a [5-fold cross validation](http://scikit-learn.org/stable/auto_examples/exercises/plot_cv_diabetes.html#example-exercises-plot-cv-diabetes-py) using sklearn's [KFold](http://scikit-learn.org/stable/modules/generated/sklearn.cross_validation.KFold.html). For the sweep of the regularization parameter, we will look at a grid of values ranging from $\\lambda = 10^{10}$ to $\\lambda = 10^{-6}$. In Python, you can consider this range of values as follows:\n",
    "\n",
    "      import numpy as np\n",
    "\n",
    "      alphas =  10**np.linspace(10,-6,100)*0.5\n",
    "\n",
    "  Report the best chosen $\\lambda$ based on cross validation. The cross validation should happen on your training data using  average MAE as the scoring metric. (8pts)\n",
    "\n",
    "2) Run ridge and lasso for all of the alphas specified above (on training data), and plot the coefficients learned for each of them - there should be one plot each for lasso and ridge, so a total of two plots; the plots for different features for a method should be on the same plot. What do you qualitatively observe when value of the regularization parameter is changed? (7pts)\n",
    "\n",
    "3) Run least squares regression, ridge, and lasso on the training data. For ridge and lasso, use only the best regularization parameter. Report the prediction error (MAE) on the test data for each. (5pts)\n",
    "\n",
    "4) Run lasso again with cross validation using [sklearn.linear_model.LassoCV](http://scikit-learn.org/stable/modules/generated/sklearn.linear_model.LassoCV.html). Set the cross validation parameters as follows:\n",
    "\n",
    "    LassoCV(alphas=None, cv=10, max_iter=10000)\n",
    "\n",
    "Report the best $\\lambda$ based on cross validation. Run lasso on the training data using the best $\\lambda$ and report the coefficeints for all variables. (5pts)\n",
    "\n",
    "## Answer\n",
    "\n"
   ]
  },
  {
   "cell_type": "code",
   "execution_count": 8,
   "metadata": {},
   "outputs": [
    {
     "name": "stderr",
     "output_type": "stream",
     "text": [
      "/Users/tammy/anaconda2/envs/Python3/lib/python3.6/site-packages/sklearn/linear_model/coordinate_descent.py:491: ConvergenceWarning: Objective did not converge. You might want to increase the number of iterations. Fitting data with very small alpha may cause precision problems.\n",
      "  ConvergenceWarning)\n",
      "/Users/tammy/anaconda2/envs/Python3/lib/python3.6/site-packages/sklearn/linear_model/coordinate_descent.py:491: ConvergenceWarning: Objective did not converge. You might want to increase the number of iterations. Fitting data with very small alpha may cause precision problems.\n",
      "  ConvergenceWarning)\n",
      "/Users/tammy/anaconda2/envs/Python3/lib/python3.6/site-packages/sklearn/linear_model/coordinate_descent.py:491: ConvergenceWarning: Objective did not converge. You might want to increase the number of iterations. Fitting data with very small alpha may cause precision problems.\n",
      "  ConvergenceWarning)\n",
      "/Users/tammy/anaconda2/envs/Python3/lib/python3.6/site-packages/sklearn/linear_model/coordinate_descent.py:491: ConvergenceWarning: Objective did not converge. You might want to increase the number of iterations. Fitting data with very small alpha may cause precision problems.\n",
      "  ConvergenceWarning)\n",
      "/Users/tammy/anaconda2/envs/Python3/lib/python3.6/site-packages/sklearn/linear_model/coordinate_descent.py:491: ConvergenceWarning: Objective did not converge. You might want to increase the number of iterations. Fitting data with very small alpha may cause precision problems.\n",
      "  ConvergenceWarning)\n"
     ]
    },
    {
     "data": {
      "text/plain": [
       "{'alpha': 6.309284415330092e-05}"
      ]
     },
     "execution_count": 8,
     "metadata": {},
     "output_type": "execute_result"
    }
   ],
   "source": [
    "# a\n",
    "#lasso\n",
    "import numpy as np\n",
    "import matplotlib.pyplot as plt\n",
    "\n",
    "from sklearn import datasets\n",
    "from sklearn.linear_model import LassoCV\n",
    "from sklearn.linear_model import Lasso\n",
    "from sklearn.model_selection import KFold\n",
    "from sklearn.model_selection import GridSearchCV\n",
    "from sklearn.metrics import mean_absolute_error\n",
    "\n",
    "alphas =  10**np.linspace(10,-6,100)*0.5\n",
    "tuned_parameters = [{'alpha': alphas}]\n",
    "n_folds = 5\n",
    "\n",
    "lasso = Lasso(random_state=0)\n",
    "clf_lasso = GridSearchCV(lasso, tuned_parameters, scoring='neg_mean_absolute_error', cv=n_folds, refit=False)\n",
    "clf_lasso.fit(X_train, log(Y_train))\n",
    "clf_lasso.best_params_"
   ]
  },
  {
   "cell_type": "code",
   "execution_count": 9,
   "metadata": {},
   "outputs": [
    {
     "data": {
      "text/plain": [
       "{'alpha': 13.5929412136647}"
      ]
     },
     "execution_count": 9,
     "metadata": {},
     "output_type": "execute_result"
    }
   ],
   "source": [
    "# a\n",
    "# Ridge\n",
    "\n",
    "from sklearn.linear_model import RidgeCV\n",
    "from sklearn.linear_model import Ridge\n",
    "from sklearn.metrics import mean_absolute_error\n",
    "\n",
    "ridge = Ridge(random_state=0)\n",
    "clf_ridge = GridSearchCV(ridge, tuned_parameters, scoring='neg_mean_absolute_error',cv=n_folds, refit=False)\n",
    "clf_ridge.fit(X_train, log(Y_train))\n",
    "clf_ridge.best_params_"
   ]
  },
  {
   "cell_type": "markdown",
   "metadata": {},
   "source": [
    "2) Run ridge and lasso for all of the alphas specified above (on training data), and plot the coefficients learned for each of them - there should be one plot each for lasso and ridge, so a total of two plots; the plots for different features for a method should be on the same plot. What do you qualitatively observe when value of the regularization parameter is changed? (7pts)"
   ]
  },
  {
   "cell_type": "code",
   "execution_count": 10,
   "metadata": {},
   "outputs": [
    {
     "name": "stderr",
     "output_type": "stream",
     "text": [
      "/Users/tammy/anaconda2/envs/Python3/lib/python3.6/site-packages/sklearn/linear_model/coordinate_descent.py:491: ConvergenceWarning: Objective did not converge. You might want to increase the number of iterations. Fitting data with very small alpha may cause precision problems.\n",
      "  ConvergenceWarning)\n"
     ]
    },
    {
     "data": {
      "text/plain": [
       "<Figure size 720x432 with 0 Axes>"
      ]
     },
     "metadata": {},
     "output_type": "display_data"
    },
    {
     "data": {
      "image/png": "[encoded data removed]",
      "text/plain": [
       "<Figure size 720x432 with 1 Axes>"
      ]
     },
     "metadata": {
      "needs_background": "light"
     },
     "output_type": "display_data"
    }
   ],
   "source": [
    "# lasso\n",
    "\n",
    "# Initialize lasso model \n",
    "lasso =Lasso()\n",
    "# Initialize dataframe to store lasso coefficients\n",
    "df_coefs = pd.DataFrame(np.nan, index = alphas, columns = X.columns.values)\n",
    "lasso_coefs = df_coefs\n",
    "# Fill dataframe with regression coefficients for each value of alpha\n",
    "for alpha in alphas:\n",
    "    lasso.alpha = alpha\n",
    "    lasso.fit(X_train, log(Y_train))\n",
    "    lasso_coefs.loc[alpha] = lasso.coef_\n",
    "\n",
    "# Plot coefficients\n",
    "plt.figure(figsize(10,6))\n",
    "lasso_coefs.plot(logx=True)\n",
    "legend(loc=1, ncol=2)\n",
    "xlim([alphas[-1], alphas[0]])\n",
    "title('Lasso Regression Coefficients')\n",
    "xlabel('Regularization Parameter (lambda/alpha)')\n",
    "ylabel('Regression Coefficients')\n",
    "## Indicate best regularization parameter\n",
    "plt.axvline(6.309284415330092e-05, linestyle='--', color='.5')\n",
    "plt.show()"
   ]
  },
  {
   "cell_type": "code",
   "execution_count": 11,
   "metadata": {},
   "outputs": [
    {
     "data": {
      "text/plain": [
       "<Figure size 720x432 with 0 Axes>"
      ]
     },
     "metadata": {},
     "output_type": "display_data"
    },
    {
     "data": {
      "image/png": "[encoded data removed]",
      "text/plain": [
       "<Figure size 720x432 with 1 Axes>"
      ]
     },
     "metadata": {
      "needs_background": "light"
     },
     "output_type": "display_data"
    }
   ],
   "source": [
    "# Ridge\n",
    "\n",
    "# Initialize ridge model \n",
    "ridge = Ridge()\n",
    "# Initialize dataframe to store ridge coefficients\n",
    "df_coefs = pd.DataFrame(np.nan, index = alphas, columns = X.columns.values)\n",
    "ridge_coefs = df_coefs\n",
    "# Fill dataframe with regression coefficients for each value of alpha\n",
    "for alpha in alphas:\n",
    "    ridge.alpha = alpha\n",
    "    ridge.fit(X_train, log(Y_train))\n",
    "    ridge_coefs.loc[alpha] = ridge.coef_\n",
    "\n",
    "# Plot coefficients\n",
    "plt.figure(figsize(10,6))\n",
    "ridge_coefs.plot(logx=True)\n",
    "legend(loc=1, ncol=2)\n",
    "xlim([alphas[-1], alphas[0]])\n",
    "title('Ridge Regression Coefficients')\n",
    "xlabel('Regularization Parameter (lambda/alpha)')\n",
    "ylabel('Regression Coefficients')\n",
    "## Indicate best regularization parameter\n",
    "plt.axvline(13.5929412136647, linestyle='--', color='.5')\n",
    "plt.show()"
   ]
  },
  {
   "cell_type": "markdown",
   "metadata": {},
   "source": [
    "3) Run least squares regression, ridge, and lasso on the training data. For ridge and lasso, use only the best regularization parameter. Report the prediction error (MAE) on the test data for each. (5pts)"
   ]
  },
  {
   "cell_type": "code",
   "execution_count": 12,
   "metadata": {},
   "outputs": [
    {
     "name": "stdout",
     "output_type": "stream",
     "text": [
      "Out of Sample MAE:\n",
      "Linear Regression : 1810.6519682594767\n",
      "Lasso Regression  : 1810.6424216634994\n",
      "Ridge Regression  : 1810.6424216634994\n"
     ]
    }
   ],
   "source": [
    "# 3\n",
    "# Least Squares\n",
    "from sklearn import linear_model\n",
    "linear = linear_model.LinearRegression()\n",
    "linear.fit(X_train, log(Y_train))\n",
    "linear_pred = np.exp(linear.predict(X_test))\n",
    "linear_MAE = mean_absolute_error(linear_pred,Y_test)\n",
    "\n",
    "# Lasso\n",
    "lasso = linear_model.Lasso(alpha = 6.309284415330092e-05)\n",
    "lasso.fit(X_train, log(Y_train))\n",
    "lasso_pred = np.exp(lasso.predict(X_test))\n",
    "lasso_MAE = mean_absolute_error(lasso_pred,Y_test)\n",
    "\n",
    "# Ridge\n",
    "ridge = linear_model.Ridge(alpha = 13.5929412136647)\n",
    "ridge.fit(X_train, log(Y_train))\n",
    "ridge_pred = np.exp(ridge.predict(X_test))\n",
    "ridge_MAE = mean_absolute_error(lasso_pred,Y_test)\n",
    "\n",
    "print ('Out of Sample MAE:')\n",
    "print\n",
    "print ('Linear Regression :', linear_MAE)\n",
    "print ('Lasso Regression  :', lasso_MAE)\n",
    "print ('Ridge Regression  :', ridge_MAE)"
   ]
  },
  {
   "cell_type": "markdown",
   "metadata": {},
   "source": [
    "4) Run lasso again with cross validation using sklearn.linear_model.LassoCV. Set the cross validation parameters as follows:\n",
    "\n",
    "LassoCV(alphas=None, cv=10, max_iter=10000)\n",
    "Report the best  λ  based on cross validation. Run lasso on the training data using the best  λ  and report the coefficeints for all variables. (5pts)"
   ]
  },
  {
   "cell_type": "code",
   "execution_count": 13,
   "metadata": {},
   "outputs": [
    {
     "name": "stdout",
     "output_type": "stream",
     "text": [
      "The best lambda:  1.742378003185893e-05 \n",
      "\n",
      "Coefficients for 14 features:\n"
     ]
    },
    {
     "data": {
      "text/plain": [
       "array([-0.51711206,  0.35693216,  0.01261526, -0.08068485, -0.00950437,\n",
       "       -0.06881325,  0.30609698,  0.08840324,  0.57216477, -0.16869083,\n",
       "       -0.35348216,  0.55420528, -0.09951851,  0.09436384])"
      ]
     },
     "execution_count": 13,
     "metadata": {},
     "output_type": "execute_result"
    }
   ],
   "source": [
    "import sklearn\n",
    "reg_lasso = sklearn.linear_model.LassoCV(alphas=None, cv=10, max_iter=10000)\n",
    "reg_lasso.fit(X_train, log(Y_train))\n",
    "alpha_best=reg_lasso.alpha_\n",
    "print(\"The best lambda: \",alpha_best,'\\n')\n",
    "\n",
    "reg_lasso = sklearn.linear_model.Lasso(alpha=alpha_best, max_iter=10000)\n",
    "reg_lasso.fit(X_train,log(Y_train))\n",
    "print('Coefficients for 14 features:')\n",
    "reg_lasso.coef_"
   ]
  },
  {
   "cell_type": "markdown",
   "metadata": {},
   "source": [
    "# Question 6 (10pts)\n",
    "\n",
    "Please solve problem \\#3.3 on page 174 in Bishop (Chapter 3). The problem has been uploaded to Canvas under 'Files': **CH3 problems from Bishop PRML.pdf**.\n",
    "\n",
    "## Answer\n",
    "### 1）\n",
    "Let $r=\\left[\\begin{smallmatrix}\\sqrt{r_1} & & & \\\\ & \\sqrt{r_2} & & \\\\ &  & \\ddots & \\\\ &  & & \\sqrt{r_n}\\\\\\end{smallmatrix}\\right]$ and $R=\\left[\\begin{smallmatrix}r_1 & & & \\\\ & r_2 & & \\\\ &  & \\ddots & \\\\ &  & & r_n\\\\\\end{smallmatrix}\\right]$ , then the weighted sum-of-squares error into matrix representation: $E_D(\\textbf{w})=[r(\\textbf{t}-\\Phi(x)\\textbf{w})]^T[r(\\textbf{t}-\\Phi(x)\\textbf{w})]=[(r\\textbf{t}-r\\Phi(x)\\textbf{w})]^T[(r\\textbf{t}-r\\Phi(x)\\textbf{w})]$   \n",
    "\n",
    "Hence, the solution $w^*=[(r\\Phi(x))^Tr\\Phi(x)]^{-1}(r\\Phi(x))^Trt=[\\Phi(x)^Tr^Tr\\Phi(x)]^{-1}\\phi(x)^Tr^Trt=[\\Phi(x)^TR\\Phi(x)]^{-1}\\Phi(x)^TRt$\n",
    "\n",
    "### 2）\n",
    "In cases where heteroscedasticity exists, OLS could not give precise estimate of the coefficient since the maximum likelihood methods is based on the assumption that the variance of noise does not change from one sample point to another. If $r_n=\\frac{1}{\\sigma_n^2}$ is applied, then we can adjust them into homoscedasticity. Thus, the coefficient given by minimizing the adjusted square errors keeps precise.\n",
    "\n",
    "In cases where there are duplicated data points, useful information from one unique point is diluted to an extend of the number of the duplicated points. Then adjust the duplicated points by weighting them $r_n=\\frac{1}{k_n}$ ($k_n$ is the number of the same points) and the coefficient given by minimizing the adjusted square errors keeps precise.\n"
   ]
  }
 ],
 "metadata": {
  "anaconda-cloud": {},
  "kernelspec": {
   "display_name": "Python 2",
   "language": "python",
   "name": "python2"
  },
  "language_info": {
   "codemirror_mode": {
    "name": "ipython",
    "version": 2
   },
   "file_extension": ".py",
   "mimetype": "text/x-python",
   "name": "python",
   "nbconvert_exporter": "python",
   "pygments_lexer": "ipython2",
   "version": "2.7.15"
  }
 },
 "nbformat": 4,
 "nbformat_minor": 1
}
