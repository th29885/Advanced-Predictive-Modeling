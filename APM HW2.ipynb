{
 "cells": [
  {
   "cell_type": "markdown",
   "metadata": {},
   "source": [
    "\n",
    "# <p style=\"text-align: center;\">MIS 382N: ADVANCED PREDICTIVE MODELING - MSBA</p>\n",
    "# <p style=\"text-align: center;\">Assignment 2</p>\n",
    "## <p style=\"text-align: center;\"> Tianxin Huang (th29885); Rulan Pan (rp33973) </p>\n",
    "\n",
    "Your homework should be written in a **Jupyter notebook**. You may work in groups of two if you wish. Only one student per team needs to submit the assignment on Canvas.  **Please include the name and UTEID for both students on all submitted files (including this notebook).**\n",
    "\n",
    "Also, please make sure your code runs and the graphics (and anything else) are displayed in your notebook before submitting. (%matplotlib inline)"
   ]
  },
  {
   "cell_type": "markdown",
   "metadata": {},
   "source": [
    "# Question 0. Bias-variance (15pts)\n",
    "Use the following code to read in a small set of data and divide it into training and testing sets. Inputs are x; outputs are y."
   ]
  },
  {
   "cell_type": "code",
   "execution_count": 1,
   "metadata": {},
   "outputs": [],
   "source": [
    "import numpy as np\n",
    "\n",
    "data_train = np.genfromtxt('data_q0_train.csv', delimiter=',')\n",
    "x_train = data_train[:,0].reshape(-1, 1)\n",
    "y_train = data_train[:,1].reshape(-1, 1)\n",
    "\n",
    "data_test = np.genfromtxt('data_q0_test.csv', delimiter=',')\n",
    "x_test = data_test[:,0].reshape(-1, 1)\n",
    "y_test = data_test[:,1].reshape(-1, 1)"
   ]
  },
  {
   "cell_type": "markdown",
   "metadata": {},
   "source": [
    "We want to build a model that can predict y for unknown inputs x.\n",
    "\n",
    "(a) (5pts) Fit a linear model to the training data, and report mean squared error on the test data. Plot the data, fitted model, and predictions, clearly denoting the training, testing, and predicted points.\n"
   ]
  },
  {
   "cell_type": "code",
   "execution_count": 2,
   "metadata": {},
   "outputs": [
    {
     "name": "stdout",
     "output_type": "stream",
     "text": [
      "Populating the interactive namespace from numpy and matplotlib\n",
      "MSE= 6455.708453830031\n"
     ]
    },
    {
     "data": {
      "image/png": "[encoded data removed]",
      "text/plain": [
       "<Figure size 432x288 with 1 Axes>"
      ]
     },
     "metadata": {
      "needs_background": "light"
     },
     "output_type": "display_data"
    }
   ],
   "source": [
    "from sklearn import linear_model\n",
    "from sklearn.metrics import mean_squared_error, mean_absolute_error\n",
    "import matplotlib.pyplot as plt\n",
    "%pylab inline\n",
    "\n",
    "reg = linear_model.LinearRegression()\n",
    "reg.fit (x_train, y_train)\n",
    "\n",
    "# Make predictions\n",
    "y_pred = reg.predict(x_test)\n",
    "\n",
    "# Plot\n",
    "plt.figure(figsize=(6,4))\n",
    "plt.scatter(x_train,y_train, color = 'hotpink', label = 'Training data')\n",
    "scatter(x_test, y_test, color = 'lime', label = \"Testing data\")\n",
    "plt.scatter(x_test, y_pred, color = 'black', label = \"Predicted data\")\n",
    "plt.plot(x_test,y_pred.reshape(-1,1))\n",
    "plt.legend(loc = 'best')\n",
    "\n",
    "# Mean square error\n",
    "mse= mean_squared_error(y_test,y_pred)\n",
    "print ('MSE=',mse)"
   ]
  },
  {
   "cell_type": "markdown",
   "metadata": {},
   "source": [
    "\n",
    "(b) (5pts) Fit polynomial models of degrees 1,2,3 and 5 to the training data, and report mean squared error for both models. Plot the data, the fitted models, and the predicted outputs.\n"
   ]
  },
  {
   "cell_type": "code",
   "execution_count": 3,
   "metadata": {},
   "outputs": [
    {
     "name": "stdout",
     "output_type": "stream",
     "text": [
      "When degree = 1\n",
      "MSE of training set is \n",
      "5339.13\n",
      "MSE of testing set is \n",
      "6455.71\n",
      "When degree = 2\n",
      "MSE of training set is \n",
      "3638.12\n",
      "MSE of testing set is \n",
      "4683.31\n",
      "When degree = 3\n",
      "MSE of training set is \n",
      "3569.9\n",
      "MSE of testing set is \n",
      "4602.2\n",
      "When degree = 5\n",
      "MSE of training set is \n",
      "2661.57\n",
      "MSE of testing set is \n",
      "6599.13\n"
     ]
    }
   ],
   "source": [
    "from sklearn.preprocessing import PolynomialFeatures\n",
    "\n",
    "poly1 = PolynomialFeatures(degree=1)\n",
    "x_train1 = poly1.fit_transform(x_train)\n",
    "x_test1 = poly1.fit_transform(x_test)\n",
    "reg1 = linear_model.LinearRegression()\n",
    "reg1.fit(x_train1, y_train)\n",
    "y_pred1_train = reg1.predict(x_train1)\n",
    "y_pred1 = reg1.predict(x_test1)\n",
    "print ('When degree = 1')\n",
    "print ('MSE of training set is ')\n",
    "print (round(mean_squared_error(y_pred1_train, y_train),2))\n",
    "print ('MSE of testing set is ')\n",
    "print (round(mean_squared_error(y_pred1, y_test),2))\n",
    "\n",
    "poly2 = PolynomialFeatures(degree=2)\n",
    "x_train2 = poly2.fit_transform(x_train)\n",
    "x_test2 = poly2.fit_transform(x_test)\n",
    "reg2 = linear_model.LinearRegression()\n",
    "reg2.fit(x_train2, y_train)\n",
    "y_pred2_train = reg2.predict(x_train2)\n",
    "y_pred2 = reg2.predict(x_test2)\n",
    "print ('When degree = 2')\n",
    "print ('MSE of training set is ')\n",
    "print (round(mean_squared_error(y_pred2_train, y_train),2))\n",
    "print ('MSE of testing set is ')\n",
    "print (round(mean_squared_error(y_pred2, y_test),2))\n",
    "\n",
    "poly3 = PolynomialFeatures(degree=3)\n",
    "x_train3 = poly3.fit_transform(x_train)\n",
    "x_test3 = poly3.fit_transform(x_test)\n",
    "reg3 = linear_model.LinearRegression()\n",
    "reg3.fit(x_train3, y_train)\n",
    "y_pred3_train = reg3.predict(x_train3)\n",
    "y_pred3 = reg3.predict(x_test3)\n",
    "print ('When degree = 3')\n",
    "print ('MSE of training set is ')\n",
    "print (round(mean_squared_error(y_pred3_train, y_train),2))\n",
    "print ('MSE of testing set is ')\n",
    "print (round(mean_squared_error(y_pred3, y_test),2))\n",
    "\n",
    "poly5 = PolynomialFeatures(degree=5)\n",
    "x_train5 = poly5.fit_transform(x_train)\n",
    "x_test5 = poly5.fit_transform(x_test)\n",
    "reg5 = linear_model.LinearRegression()\n",
    "reg5.fit(x_train5, y_train)\n",
    "y_pred5_train = reg5.predict(x_train5)\n",
    "y_pred5 = reg5.predict(x_test5)\n",
    "print ('When degree = 5')\n",
    "print ('MSE of training set is ')\n",
    "print (round(mean_squared_error(y_pred5_train, y_train),2))\n",
    "print ('MSE of testing set is ')\n",
    "print (round(mean_squared_error(y_pred5, y_test),2))"
   ]
  },
  {
   "cell_type": "code",
   "execution_count": 14,
   "metadata": {},
   "outputs": [
    {
     "data": {
      "image/png": "[encoded data removed]",
      "text/plain": [
       "<Figure size 432x288 with 1 Axes>"
      ]
     },
     "metadata": {
      "needs_background": "light"
     },
     "output_type": "display_data"
    },
    {
     "data": {
      "image/png": "[encoded data removed]",
      "text/plain": [
       "<Figure size 432x288 with 1 Axes>"
      ]
     },
     "metadata": {
      "needs_background": "light"
     },
     "output_type": "display_data"
    },
    {
     "data": {
      "image/png": "[encoded data removed]",
      "text/plain": [
       "<Figure size 432x288 with 1 Axes>"
      ]
     },
     "metadata": {
      "needs_background": "light"
     },
     "output_type": "display_data"
    },
    {
     "data": {
      "image/png": "[encoded data removed]",
      "text/plain": [
       "<Figure size 432x288 with 1 Axes>"
      ]
     },
     "metadata": {
      "needs_background": "light"
     },
     "output_type": "display_data"
    }
   ],
   "source": [
    "import numpy as np\n",
    "x = np.array(range(1,100)).reshape(-1,1)\n",
    "x_train1 = poly1.fit_transform(x)\n",
    "x_train2 = poly2.fit_transform(x)\n",
    "x_train3 = poly3.fit_transform(x)\n",
    "x_train5 = poly5.fit_transform(x)\n",
    "\n",
    "line1 = reg1.intercept_+ np.dot(x_train1,reg1.coef_.reshape(2,-1))\n",
    "line2 = reg2.intercept_+ np.dot(x_train2,reg2.coef_.reshape(3,-1))\n",
    "line3 = reg3.intercept_+ np.dot(x_train3,reg3.coef_.reshape(4,-1))\n",
    "line5 = reg5.intercept_+ np.dot(x_train5,reg5.coef_.reshape(6,-1))\n",
    "list_line = [line1, line2, line3, line5]\n",
    "list_degree = [1,2,3,5]\n",
    "for i in range(4):\n",
    "    scatter(x_train, y_train, color='hotpink',label='train')\n",
    "    scatter(x_test, y_test, color='lime',label='test')\n",
    "    plot(sorted(list_line[i]), color = 'blue',label = 'degree'+str(list_degree[i]))\n",
    "    xlabel('x')\n",
    "    ylabel('y')\n",
    "    legend(loc='best')\n",
    "    show()"
   ]
  },
  {
   "cell_type": "markdown",
   "metadata": {},
   "source": [
    "\n",
    "(c) (5pts) Which model performed the best? Explain using the bias-variance tradeoff."
   ]
  },
  {
   "cell_type": "markdown",
   "metadata": {},
   "source": [
    "\n",
    "We think Polynomial Model with degress 3 performs the best since its mse of 4602.2 is the least among all the models. When degree increases from 1, 2, 3 to 5, the model becomes more complex. Variance increases while bias decreases. There exists a sweet point where the sum of bias square and variance becomes the smallest, which is the expectation of sum squared error. From our experiment of different degrees, the sweet point occurs at degree 3."
   ]
  },
  {
   "cell_type": "markdown",
   "metadata": {},
   "source": [
    "# Question 1. Data Exploration (20pts)\n",
    "Use the following code to import the dataset."
   ]
  },
  {
   "cell_type": "code",
   "execution_count": 15,
   "metadata": {},
   "outputs": [],
   "source": [
    "import pandas as pd\n",
    "import matplotlib.pyplot as plt\n",
    "%matplotlib inline\n",
    "\n",
    "#read the data\n",
    "data = pd.read_csv('data_q1.csv', index_col=0)"
   ]
  },
  {
   "cell_type": "markdown",
   "metadata": {},
   "source": [
    "The columns are:\n",
    "  * TV: advertising dollars spent on TV for a single product (in thousands of dollars)\n",
    "  * Radio: advertising dollars spent on Radio\n",
    "  * Newspaper: advertising dollars spent on Newspaper\n",
    "  * Sales (dependent variable): sales of a single product in a given market (in thousands of widgets)\n",
    "\n",
    "We are interested in predicting sales based on the first three \"feature\" variables (TV, Radio and Newspaper).\n",
    "\n",
    "(a) (1pts) Print the shape (number of rows and columns) of the data matrix , and show the first 5 rows.\n",
    "\n"
   ]
  },
  {
   "cell_type": "code",
   "execution_count": 16,
   "metadata": {},
   "outputs": [
    {
     "name": "stdout",
     "output_type": "stream",
     "text": [
      "rows = 200\n",
      "columns = 4\n"
     ]
    },
    {
     "data": {
      "text/html": [
       "<div>\n",
       "<style scoped>\n",
       "    .dataframe tbody tr th:only-of-type {\n",
       "        vertical-align: middle;\n",
       "    }\n",
       "\n",
       "    .dataframe tbody tr th {\n",
       "        vertical-align: top;\n",
       "    }\n",
       "\n",
       "    .dataframe thead th {\n",
       "        text-align: right;\n",
       "    }\n",
       "</style>\n",
       "<table border=\"1\" class=\"dataframe\">\n",
       "  <thead>\n",
       "    <tr style=\"text-align: right;\">\n",
       "      <th></th>\n",
       "      <th>TV</th>\n",
       "      <th>Radio</th>\n",
       "      <th>Newspaper</th>\n",
       "      <th>Sales</th>\n",
       "    </tr>\n",
       "  </thead>\n",
       "  <tbody>\n",
       "    <tr>\n",
       "      <th>1</th>\n",
       "      <td>230.1</td>\n",
       "      <td>37.8</td>\n",
       "      <td>69.2</td>\n",
       "      <td>22.1</td>\n",
       "    </tr>\n",
       "    <tr>\n",
       "      <th>2</th>\n",
       "      <td>44.5</td>\n",
       "      <td>39.3</td>\n",
       "      <td>45.1</td>\n",
       "      <td>10.4</td>\n",
       "    </tr>\n",
       "    <tr>\n",
       "      <th>3</th>\n",
       "      <td>17.2</td>\n",
       "      <td>45.9</td>\n",
       "      <td>69.3</td>\n",
       "      <td>9.3</td>\n",
       "    </tr>\n",
       "    <tr>\n",
       "      <th>4</th>\n",
       "      <td>151.5</td>\n",
       "      <td>41.3</td>\n",
       "      <td>58.5</td>\n",
       "      <td>18.5</td>\n",
       "    </tr>\n",
       "    <tr>\n",
       "      <th>5</th>\n",
       "      <td>180.8</td>\n",
       "      <td>10.8</td>\n",
       "      <td>58.4</td>\n",
       "      <td>12.9</td>\n",
       "    </tr>\n",
       "  </tbody>\n",
       "</table>\n",
       "</div>"
      ],
      "text/plain": [
       "      TV  Radio  Newspaper  Sales\n",
       "1  230.1   37.8       69.2   22.1\n",
       "2   44.5   39.3       45.1   10.4\n",
       "3   17.2   45.9       69.3    9.3\n",
       "4  151.5   41.3       58.5   18.5\n",
       "5  180.8   10.8       58.4   12.9"
      ]
     },
     "execution_count": 16,
     "metadata": {},
     "output_type": "execute_result"
    }
   ],
   "source": [
    "shape = data.shape\n",
    "rows = data.shape[0]\n",
    "columns = data.shape[1]\n",
    "print ('rows =', rows)\n",
    "print ('columns =', columns)\n",
    "data.head(5)\n"
   ]
  },
  {
   "cell_type": "markdown",
   "metadata": {},
   "source": [
    "(b) (4pts) Generate box-plots for each of the four columns and identify the cutoff values for outliers.\n",
    "\n"
   ]
  },
  {
   "cell_type": "code",
   "execution_count": 20,
   "metadata": {},
   "outputs": [
    {
     "data": {
      "image/png": "[encoded data removed]",
      "text/plain": [
       "<Figure size 1080x720 with 4 Axes>"
      ]
     },
     "metadata": {
      "needs_background": "light"
     },
     "output_type": "display_data"
    },
    {
     "name": "stdout",
     "output_type": "stream",
     "text": [
      "Cutoff values of  TV are values greater than 435.500 or less than -142.300\n",
      "Cutoff values of  Radio are values greater than 76.350 or less than -29.850\n",
      "Cutoff values of  Newspaper are values greater than 93.625 or less than -35.775\n",
      "Cutoff values of  Sales are values greater than 27.937 or less than -0.162\n"
     ]
    }
   ],
   "source": [
    "import matplotlib.pyplot as plt\n",
    "import numpy as np\n",
    "\n",
    "varlist =['TV', 'Radio','Newspaper','Sales']\n",
    "fig=plt.figure(figsize=(15,10))\n",
    "for i in range(4):\n",
    "    n=221+i\n",
    "    fig.add_subplot(n)\n",
    "    boxplot(data[varlist[i]],0,'gD')\n",
    "    xlabel(varlist[i])\n",
    "show()\n",
    "\n",
    "for col in varlist:\n",
    "    a=np.percentile(data[col],25)\n",
    "    b=np.percentile(data[col],75)\n",
    "    IQR = b-a\n",
    "    print('Cutoff values of ', col, 'are values greater than %.3f'%(b+1.5*IQR),'or less than %.3f'%(a-1.5*IQR))\n"
   ]
  },
  {
   "cell_type": "markdown",
   "metadata": {},
   "source": [
    "(c) (4pts) Visualize the relationship between the features and the response variable (Sales) using scatterplots. Comment on the fits.\n"
   ]
  },
  {
   "cell_type": "code",
   "execution_count": 21,
   "metadata": {},
   "outputs": [
    {
     "data": {
      "text/plain": [
       "<matplotlib.legend.Legend at 0x1a217b1160>"
      ]
     },
     "execution_count": 21,
     "metadata": {},
     "output_type": "execute_result"
    },
    {
     "data": {
      "image/png": "[encoded data removed]",
      "text/plain": [
       "<Figure size 432x288 with 1 Axes>"
      ]
     },
     "metadata": {
      "needs_background": "light"
     },
     "output_type": "display_data"
    }
   ],
   "source": [
    "plt.scatter(data['TV'],data['Sales'], label = \"TV vs. Sales\")\n",
    "plt.scatter(data['Radio'],data['Sales'], label = \"Radio vs. Sales\")\n",
    "plt.scatter(data['Newspaper'],data['Sales'], label = \"Newspaper vs. Sales\")\n",
    "ylabel('Sales')\n",
    "plt.legend(loc = 'best')"
   ]
  },
  {
   "cell_type": "markdown",
   "metadata": {},
   "source": [
    "The graph shows that all of the 3 variables are positively correlated with Sales. \n",
    "It also indicates that adversiting on radio and newspaper have relatively more impact on sales. Adversiting on TV has relatively less impact on sales."
   ]
  },
  {
   "cell_type": "markdown",
   "metadata": {},
   "source": [
    "\n",
    "(d) (4pts) Fit a simple linear regression of 'Sales' on 'TV'. What is the regression coefficient for 'TV'? What is its interpretation?"
   ]
  },
  {
   "cell_type": "code",
   "execution_count": 22,
   "metadata": {},
   "outputs": [
    {
     "name": "stdout",
     "output_type": "stream",
     "text": [
      "Regression Coefficient: \n",
      " [[0.04753664]]\n"
     ]
    }
   ],
   "source": [
    "reg = linear_model.LinearRegression()\n",
    "x = data['TV'].values.reshape(-1, 1)\n",
    "y = data['Sales'].values.reshape(-1, 1)\n",
    "reg.fit (x, y)\n",
    "print('Regression Coefficient: \\n', reg.coef_)"
   ]
  },
  {
   "cell_type": "markdown",
   "metadata": {},
   "source": [
    "Interpretation: It means that Sales will increase by around 48 widgets if an additional dollar is spent on TV advertising."
   ]
  },
  {
   "cell_type": "markdown",
   "metadata": {},
   "source": [
    "Now split the data randomly into a training and test set (keep one third of the data for test), using train_test_split from sklearn. Use test_size as 0.33 and random_state as 42.\n",
    "\n",
    "(e) (4pts) Fit an MLR on all the feature variables using the training data and evaluate the trained model on the test data using root mean squared error. (Sales is the dependent variable)\n"
   ]
  },
  {
   "cell_type": "code",
   "execution_count": 23,
   "metadata": {},
   "outputs": [
    {
     "name": "stdout",
     "output_type": "stream",
     "text": [
      "RMSE of testing set: 1.931\n"
     ]
    }
   ],
   "source": [
    "from sklearn.model_selection import train_test_split\n",
    "from sklearn.metrics import mean_squared_error\n",
    "from math import sqrt\n",
    "\n",
    "X = data[['TV','Radio','Newspaper']]\n",
    "Y = data['Sales']\n",
    "x_train, x_test, y_train, y_test = train_test_split(X, Y, test_size=0.33, random_state=42)\n",
    "\n",
    "reg = linear_model.LinearRegression()\n",
    "reg.fit(x_train,y_train)\n",
    "y_train_predict= reg.predict(x_train)\n",
    "y_test_predict = reg.predict(x_test)\n",
    "\n",
    "rmse = sqrt(mean_squared_error(y_test, y_test_predict))\n",
    "print('RMSE of testing set:', round (rmse, 3))"
   ]
  },
  {
   "cell_type": "markdown",
   "metadata": {},
   "source": [
    "\n",
    "(f) (2pts) Report the MSE obtained on train data. How much does this increase when you score your model on test data?\n",
    "\n"
   ]
  },
  {
   "cell_type": "code",
   "execution_count": 24,
   "metadata": {},
   "outputs": [
    {
     "name": "stdout",
     "output_type": "stream",
     "text": [
      "MSE on train data = 2.411\n",
      "MSE on test data = 3.728\n",
      "When scoring the model on test data, MSE increases by 1.317\n"
     ]
    }
   ],
   "source": [
    "mse_train = mean_squared_error(y_train, y_train_predict)\n",
    "print ('MSE on train data =', round (mse_train,3))\n",
    "       \n",
    "mse_test = mean_squared_error(y_test, y_test_predict)\n",
    "print ('MSE on test data =', round (mse_test, 3))\n",
    "\n",
    "print ('When scoring the model on test data, MSE increases by', round (mse_test-mse_train,3))"
   ]
  },
  {
   "cell_type": "markdown",
   "metadata": {},
   "source": [
    "(g) (1pts) Report the coefficients obtained by your model."
   ]
  },
  {
   "cell_type": "code",
   "execution_count": 27,
   "metadata": {},
   "outputs": [
    {
     "name": "stdout",
     "output_type": "stream",
     "text": [
      "Regression Coefficient: \n",
      " [0.04466512 0.19663006 0.00607439]\n"
     ]
    }
   ],
   "source": [
    "print('Regression Coefficient: \\n', reg.coef_)"
   ]
  },
  {
   "cell_type": "markdown",
   "metadata": {},
   "source": [
    "# Question 2. Regression (25pts)\n",
    "\n",
    "Use the following dataset for this question. Split the dataset into train and test set(already done for you.)\n"
   ]
  },
  {
   "cell_type": "code",
   "execution_count": 28,
   "metadata": {},
   "outputs": [],
   "source": [
    "import pandas as pd\n",
    "from sklearn import datasets\n",
    "diabetes = datasets.load_diabetes()\n",
    "\n",
    "X = diabetes.data\n",
    "Y = diabetes.target"
   ]
  },
  {
   "cell_type": "code",
   "execution_count": 29,
   "metadata": {},
   "outputs": [
    {
     "name": "stderr",
     "output_type": "stream",
     "text": [
      "/anaconda2/envs/python36/lib/python3.6/site-packages/sklearn/cross_validation.py:41: DeprecationWarning: This module was deprecated in version 0.18 in favor of the model_selection module into which all the refactored classes and functions are moved. Also note that the interface of the new CV iterators are different from that of this module. This module will be removed in 0.20.\n",
      "  \"This module will be removed in 0.20.\", DeprecationWarning)\n"
     ]
    }
   ],
   "source": [
    "from sklearn.cross_validation import train_test_split\n",
    "X_train, X_test, y_train, y_test = train_test_split(X,Y,test_size = 0.33, random_state=10) "
   ]
  },
  {
   "cell_type": "markdown",
   "metadata": {},
   "source": [
    "a) (2 points) Fit an MLR, using ordinary least squares, on all the feature variables using the training data. Report the RMSE obtained on both X_train and X_test. How much does this increase when you score your model on X_test?\n",
    "\n"
   ]
  },
  {
   "cell_type": "code",
   "execution_count": 30,
   "metadata": {},
   "outputs": [
    {
     "name": "stdout",
     "output_type": "stream",
     "text": [
      "RMSE of training set: 52.008\n",
      "RMSE of testing set: 57.428\n",
      "When scoring the model on test data, RMSE increases by 5.42\n"
     ]
    }
   ],
   "source": [
    "from sklearn import linear_model\n",
    "reg = linear_model.LinearRegression()\n",
    "reg.fit (X_train,y_train)\n",
    "y_train_predict= reg.predict(X_train)\n",
    "y_test_predict = reg.predict(X_test)\n",
    "\n",
    "rmse_train = sqrt(mean_squared_error(y_train, y_train_predict))\n",
    "print('RMSE of training set:', round (rmse_train, 3))\n",
    "rmse_test = sqrt(mean_squared_error(y_test, y_test_predict))\n",
    "print('RMSE of testing set:', round (rmse_test, 3))\n",
    "print ('When scoring the model on test data, RMSE increases by', round (rmse_test-rmse_train,3))"
   ]
  },
  {
   "cell_type": "markdown",
   "metadata": {},
   "source": [
    "b)  (3 points) Now fit the regression model using Huber loss.  You can use the [sklearn package](  http://scikit-learn.org/stable/modules/generated/sklearn.linear_model.HuberRegressor.html).  Set regularization parameter alpha to 0.0 and all other parameters as default.\n",
    "Report RMSE obtained on both X_train and X_test.\n",
    "\n"
   ]
  },
  {
   "cell_type": "code",
   "execution_count": 31,
   "metadata": {},
   "outputs": [
    {
     "name": "stdout",
     "output_type": "stream",
     "text": [
      "RMSE of training set: 52.164\n",
      "RMSE of testing set: 57.15\n"
     ]
    }
   ],
   "source": [
    "from sklearn.linear_model import HuberRegressor\n",
    "model = HuberRegressor(alpha=0)\n",
    "result = model.fit(X_train, y_train)\n",
    "\n",
    "y_train_predict= model.predict(X_train)\n",
    "y_test_predict = model.predict(X_test)\n",
    "\n",
    "rmse_train = sqrt(mean_squared_error(y_train, y_train_predict))\n",
    "print('RMSE of training set:', round (rmse_train, 3))\n",
    "rmse_test = sqrt(mean_squared_error(y_test, y_test_predict))\n",
    "print('RMSE of testing set:', round (rmse_test, 3))"
   ]
  },
  {
   "cell_type": "markdown",
   "metadata": {},
   "source": [
    "Now we will introduce outlier in the training set and train our model to see how the model performs. (Code provided)\n",
    "\n",
    "c) (2 points ) Fit the MLR model on X_train and y_train_outlier and calculate the RMSE on train and test set.\n",
    "\n"
   ]
  },
  {
   "cell_type": "code",
   "execution_count": 32,
   "metadata": {},
   "outputs": [
    {
     "name": "stdout",
     "output_type": "stream",
     "text": [
      "RMSE of training set: 286.264\n",
      "RMSE of testing set: 82.218\n"
     ]
    }
   ],
   "source": [
    "y_train_outliers = np.copy(y_train)\n",
    "y_train_outliers[0] = 5000.0\n",
    "\n",
    "reg.fit (X_train,y_train_outliers)\n",
    "y_train_predict= reg.predict(X_train)\n",
    "y_test_predict = reg.predict(X_test)\n",
    "\n",
    "rmse_train = sqrt(mean_squared_error(y_train_outliers, y_train_predict))\n",
    "print('RMSE of training set:', round (rmse_train, 3))\n",
    "rmse_test = sqrt(mean_squared_error(y_test, y_test_predict))\n",
    "print('RMSE of testing set:', round (rmse_test, 3))"
   ]
  },
  {
   "cell_type": "markdown",
   "metadata": {},
   "source": [
    "d) (3 points) Fit the regression model with Huber loss on X_train and y_train_outier. Calculate the RMSE on train and test set. Compare the RMSE of both the models.\n"
   ]
  },
  {
   "cell_type": "code",
   "execution_count": 33,
   "metadata": {},
   "outputs": [
    {
     "name": "stdout",
     "output_type": "stream",
     "text": [
      "RMSE of training set: 290.222\n",
      "RMSE of testing set: 57.566\n"
     ]
    }
   ],
   "source": [
    "from sklearn.linear_model import HuberRegressor\n",
    "model = HuberRegressor(alpha=0)\n",
    "result = model.fit(X_train, y_train_outliers)\n",
    "\n",
    "y_train_predict1= model.predict(X_train)\n",
    "y_test_predict1 = model.predict(X_test)\n",
    "\n",
    "rmse_train = sqrt(mean_squared_error(y_train_outliers, y_train_predict1))\n",
    "print('RMSE of training set:', round (rmse_train, 3))\n",
    "rmse_test = sqrt(mean_squared_error(y_test, y_test_predict1))\n",
    "print('RMSE of testing set:', round (rmse_test, 3))"
   ]
  },
  {
   "cell_type": "markdown",
   "metadata": {},
   "source": [
    "When outlier exists, Huber regression performs better because it generates smaller rmse on the test set. \n",
    "This is because Huber loss gives less penalty on residuals so it's less sensitive to outliers. "
   ]
  },
  {
   "cell_type": "markdown",
   "metadata": {},
   "source": [
    "\n",
    "e) (5 points) Calaculate the residuals on the test set for both the models obtained in (c) and (d). Plot the scatter plot of residual vs fitted value for both the models. What do you observe? Which model looks better?"
   ]
  },
  {
   "cell_type": "code",
   "execution_count": 34,
   "metadata": {},
   "outputs": [
    {
     "data": {
      "image/png": "[encoded data removed]",
      "text/plain": [
       "<Figure size 432x288 with 1 Axes>"
      ]
     },
     "metadata": {
      "needs_background": "light"
     },
     "output_type": "display_data"
    }
   ],
   "source": [
    "residual_mlr = y_test - y_test_predict\n",
    "residual_huber = y_test - y_test_predict1\n",
    "scatter(residual_mlr,y_test_predict,color = 'blue',label = 'MLR')\n",
    "scatter(residual_huber,y_test_predict1,color = 'orange',label = 'Huber')\n",
    "\n",
    "xlabel ('residual')\n",
    "ylabel ('prediction of y')\n",
    "legend (loc = 'best')\n",
    "\n",
    "show()"
   ]
  },
  {
   "cell_type": "markdown",
   "metadata": {},
   "source": [
    "The Huber model looks better for the following reasons:\n",
    "  1. The residuals of the Huber model are more centuralized around 0 than those of the MLR model.\n",
    "  2. The residuals of the MLR model shows a clearer linear pattern than those of the Huber model."
   ]
  },
  {
   "cell_type": "markdown",
   "metadata": {},
   "source": [
    "Now we will do feature selection. The features of X matrix are named as x1,x2,.... . We have created a list feature_name which stores the feature name (Code provided). So x1 means the first column of X, x2 means the second column of X and so on.\n",
    "\n",
    "f) (5 points ) Backward Selection: Find the three most significant factors using backward feature selection. You may find this link to be helpful: http://scikit-learn.org/stable/modules/generated/sklearn.feature_selection.RFE.html. Use X_train and y_train for your model.\n"
   ]
  },
  {
   "cell_type": "code",
   "execution_count": 35,
   "metadata": {},
   "outputs": [
    {
     "name": "stdout",
     "output_type": "stream",
     "text": [
      "x3\n",
      "x5\n",
      "x9\n"
     ]
    }
   ],
   "source": [
    "from sklearn.feature_selection import RFE\n",
    "from sklearn.svm import SVR\n",
    "\n",
    "feature_name = ['x'+str(i) for i in range(1,11)]\n",
    "\n",
    "estimator = linear_model.LinearRegression()\n",
    "selector = RFE(estimator, 3, step=1)\n",
    "selector = selector.fit(X_train, y_train)\n",
    "for i in range(len(feature_name)):\n",
    "    if selector.support_[i] == True:\n",
    "        print(feature_name[i])\n"
   ]
  },
  {
   "cell_type": "markdown",
   "metadata": {},
   "source": [
    "Therefore, x3, x5, and x9 are the 3 most significant factors using backward feature selection"
   ]
  },
  {
   "cell_type": "markdown",
   "metadata": {},
   "source": [
    "\n",
    "g) (5 points) Forward Selection: Find the three most significant feature using forward selection. Check if it is same as the ones you got in part (f). Use X_train and y_train for your model. Hint : Use a for loop to implement forward feature selection"
   ]
  },
  {
   "cell_type": "code",
   "execution_count": 36,
   "metadata": {
    "scrolled": true
   },
   "outputs": [
    {
     "data": {
      "text/plain": [
       "['x3', 'x9', 'x5']"
      ]
     },
     "execution_count": 36,
     "metadata": {},
     "output_type": "execute_result"
    }
   ],
   "source": [
    "df = pd.DataFrame(X_train, columns = feature_name)\n",
    "\n",
    "def forward_selection(X, Y):\n",
    "    MSE_df = pd.DataFrame(np.zeros((10, 1)), columns = ['MSE'], index = feature_name)\n",
    "    important_list = []\n",
    "    a = 1\n",
    "    \n",
    "    while a <= 3:\n",
    "        for i, column in enumerate(X.columns):\n",
    "            if column not in important_list:\n",
    "                model = linear_model.LinearRegression()\n",
    "                model.fit(X[[column] + important_list], Y)\n",
    "                y_predict = model.predict(X[[column] + important_list])\n",
    "                MSE = mean_squared_error(y_predict, Y)\n",
    "                MSE_df.iloc[i, 0] = MSE\n",
    "            else:\n",
    "                MSE_df.iloc[i, 0] = np.nan\n",
    "        importantX = MSE_df['MSE'].idxmin()\n",
    "        important_list.append(importantX)\n",
    "        a += 1\n",
    "    return important_list\n",
    "\n",
    "forward_selection(df, y_train)"
   ]
  },
  {
   "cell_type": "markdown",
   "metadata": {},
   "source": [
    "Therefore, x3, x5, and x9 are the 3 most significant feature using forward selection, which are the same as the ones I got in part (f)."
   ]
  },
  {
   "cell_type": "markdown",
   "metadata": {},
   "source": [
    "# Question 3. Sampling (5pts)\n",
    "\n",
    "A recent survey estimated that $30\\%$ of all Europeans aged 20 to 22 have driven under the influence of drugs or alcohol, based on a simple \"Yes or No\" question. A similar survey is being planned for Americans. The survey designers want the  $90\\%$ confidence interval to have a margin of error of at most $\\pm0.09$.\n",
    "\n",
    "(a) (2pts) Find the necessary sample size needed to conduct this survey assuming that the expected percentage of \"yes\" answers will be very close to that obtained from the European survey?\n",
    "\n"
   ]
  },
  {
   "cell_type": "markdown",
   "metadata": {},
   "source": [
    "We know that for \n",
    "$$ n \\geq p(1-p) \\  (\\cfrac {Z_{\\alpha /2}}{\\epsilon})^2$$"
   ]
  },
  {
   "cell_type": "code",
   "execution_count": 37,
   "metadata": {},
   "outputs": [
    {
     "name": "stdout",
     "output_type": "stream",
     "text": [
      "Sample size should at least be 71 when p=0.3.\n"
     ]
    }
   ],
   "source": [
    "from scipy.stats import norm\n",
    "alpha=0.1\n",
    "epsilon=0.09\n",
    "Z=norm.ppf(1-(alpha/2))\n",
    "p=0.3\n",
    "n=p*(1-p)*(Z/epsilon)**2\n",
    "\n",
    "number=int(ceil(n))\n",
    "print ('Sample size should at least be %s when p=0.3.' %number)"
   ]
  },
  {
   "cell_type": "markdown",
   "metadata": {},
   "source": [
    "(b) (2pts) Suppose the tolerance level was kept the same but the confidence level needs to increase to $95\\%$. What is the required sample size for this new specification?\n",
    "\n"
   ]
  },
  {
   "cell_type": "code",
   "execution_count": 38,
   "metadata": {},
   "outputs": [
    {
     "name": "stdout",
     "output_type": "stream",
     "text": [
      "Sample size should at least be 100 when p=0.3.\n"
     ]
    }
   ],
   "source": [
    "alpha=0.05\n",
    "epsilon=0.09\n",
    "Z=norm.ppf(1-(alpha/2))\n",
    "p=0.3\n",
    "n=p*(1-p)*(Z/epsilon)**2\n",
    "\n",
    "number=int(ceil(n))\n",
    "print ('Sample size should at least be %s when p=0.3.' %number)"
   ]
  },
  {
   "cell_type": "markdown",
   "metadata": {},
   "source": [
    "(c) (1pts) If one does not know where the true \"$p$\" may lie, one can conservatively conduct a survey assuming the worst case (in terms of required minimum sample size)  scenario of  $p = 0.5$. Redo part (b) for this \"worst case\" scenario.\n"
   ]
  },
  {
   "cell_type": "code",
   "execution_count": 39,
   "metadata": {},
   "outputs": [
    {
     "name": "stdout",
     "output_type": "stream",
     "text": [
      "Sample size should at least be 119 when p=0.5.\n"
     ]
    }
   ],
   "source": [
    "alpha=0.05\n",
    "epsilon=0.09\n",
    "Z=norm.ppf(1-(alpha/2))\n",
    "p=0.5\n",
    "n=p*(1-p)*(Z/epsilon)**2\n",
    "\n",
    "number=int(ceil(n))\n",
    "print ('Sample size should at least be %s when p=0.5.' %number)"
   ]
  },
  {
   "cell_type": "markdown",
   "metadata": {},
   "source": [
    "# Question 4. Principal Component Analysis (10pts)\n",
    "\n",
    "Use the following code to read in data of US Imports."
   ]
  },
  {
   "cell_type": "code",
   "execution_count": 40,
   "metadata": {},
   "outputs": [
    {
     "data": {
      "text/html": [
       "<div>\n",
       "<style scoped>\n",
       "    .dataframe tbody tr th:only-of-type {\n",
       "        vertical-align: middle;\n",
       "    }\n",
       "\n",
       "    .dataframe tbody tr th {\n",
       "        vertical-align: top;\n",
       "    }\n",
       "\n",
       "    .dataframe thead th {\n",
       "        text-align: right;\n",
       "    }\n",
       "</style>\n",
       "<table border=\"1\" class=\"dataframe\">\n",
       "  <thead>\n",
       "    <tr style=\"text-align: right;\">\n",
       "      <th></th>\n",
       "      <th>Agricultural machinery, equipment</th>\n",
       "      <th>Alcoholic beverages, excluding wine</th>\n",
       "      <th>Apparel, household goods - cotton</th>\n",
       "      <th>Apparel, household goods - wool</th>\n",
       "      <th>Apparel, textiles, nonwool or cotton</th>\n",
       "      <th>Apparel,household goods-nontextile</th>\n",
       "      <th>Artwork, antiques, stamps, etc.</th>\n",
       "      <th>Automotive tires and tubes</th>\n",
       "      <th>Bakery products</th>\n",
       "      <th>Bauxite and aluminum</th>\n",
       "      <th>...</th>\n",
       "      <th>Toiletries and cosmetics</th>\n",
       "      <th>Toys, games, and sporting goods</th>\n",
       "      <th>Trucks, buses, and special purpose vehicles</th>\n",
       "      <th>U.S. goods returned, and reimports</th>\n",
       "      <th>Vegetables</th>\n",
       "      <th>Vessels, except scrap</th>\n",
       "      <th>Wine, beer, and related products</th>\n",
       "      <th>Wood, glass, plastic</th>\n",
       "      <th>Wool, silk, etc.</th>\n",
       "      <th>Zinc</th>\n",
       "    </tr>\n",
       "    <tr>\n",
       "      <th>Country</th>\n",
       "      <th></th>\n",
       "      <th></th>\n",
       "      <th></th>\n",
       "      <th></th>\n",
       "      <th></th>\n",
       "      <th></th>\n",
       "      <th></th>\n",
       "      <th></th>\n",
       "      <th></th>\n",
       "      <th></th>\n",
       "      <th></th>\n",
       "      <th></th>\n",
       "      <th></th>\n",
       "      <th></th>\n",
       "      <th></th>\n",
       "      <th></th>\n",
       "      <th></th>\n",
       "      <th></th>\n",
       "      <th></th>\n",
       "      <th></th>\n",
       "      <th></th>\n",
       "    </tr>\n",
       "  </thead>\n",
       "  <tbody>\n",
       "    <tr>\n",
       "      <th>Afghanistan</th>\n",
       "      <td>3105.0</td>\n",
       "      <td>0.0</td>\n",
       "      <td>10739.0</td>\n",
       "      <td>7314.0</td>\n",
       "      <td>11942.0</td>\n",
       "      <td>2720.0</td>\n",
       "      <td>402303.0</td>\n",
       "      <td>0.0</td>\n",
       "      <td>12081.0</td>\n",
       "      <td>0.0</td>\n",
       "      <td>...</td>\n",
       "      <td>0.0</td>\n",
       "      <td>0.0</td>\n",
       "      <td>0.0</td>\n",
       "      <td>6156613.0</td>\n",
       "      <td>25873.0</td>\n",
       "      <td>0.0</td>\n",
       "      <td>61741.0</td>\n",
       "      <td>8474.0</td>\n",
       "      <td>3350.0</td>\n",
       "      <td>0.0</td>\n",
       "    </tr>\n",
       "    <tr>\n",
       "      <th>Albania</th>\n",
       "      <td>0.0</td>\n",
       "      <td>34741.0</td>\n",
       "      <td>2752171.0</td>\n",
       "      <td>50838.0</td>\n",
       "      <td>1298224.0</td>\n",
       "      <td>889107.0</td>\n",
       "      <td>286011.0</td>\n",
       "      <td>0.0</td>\n",
       "      <td>0.0</td>\n",
       "      <td>182556.0</td>\n",
       "      <td>...</td>\n",
       "      <td>4446.0</td>\n",
       "      <td>0.0</td>\n",
       "      <td>0.0</td>\n",
       "      <td>66682.0</td>\n",
       "      <td>519964.0</td>\n",
       "      <td>0.0</td>\n",
       "      <td>14112.0</td>\n",
       "      <td>0.0</td>\n",
       "      <td>0.0</td>\n",
       "      <td>0.0</td>\n",
       "    </tr>\n",
       "    <tr>\n",
       "      <th>Algeria</th>\n",
       "      <td>0.0</td>\n",
       "      <td>0.0</td>\n",
       "      <td>0.0</td>\n",
       "      <td>0.0</td>\n",
       "      <td>0.0</td>\n",
       "      <td>0.0</td>\n",
       "      <td>20217.0</td>\n",
       "      <td>0.0</td>\n",
       "      <td>0.0</td>\n",
       "      <td>0.0</td>\n",
       "      <td>...</td>\n",
       "      <td>22947.0</td>\n",
       "      <td>0.0</td>\n",
       "      <td>0.0</td>\n",
       "      <td>29474254.0</td>\n",
       "      <td>0.0</td>\n",
       "      <td>0.0</td>\n",
       "      <td>0.0</td>\n",
       "      <td>0.0</td>\n",
       "      <td>0.0</td>\n",
       "      <td>0.0</td>\n",
       "    </tr>\n",
       "    <tr>\n",
       "      <th>Andorra</th>\n",
       "      <td>0.0</td>\n",
       "      <td>0.0</td>\n",
       "      <td>351.0</td>\n",
       "      <td>0.0</td>\n",
       "      <td>0.0</td>\n",
       "      <td>3683.0</td>\n",
       "      <td>0.0</td>\n",
       "      <td>0.0</td>\n",
       "      <td>0.0</td>\n",
       "      <td>4741.0</td>\n",
       "      <td>...</td>\n",
       "      <td>0.0</td>\n",
       "      <td>0.0</td>\n",
       "      <td>0.0</td>\n",
       "      <td>67589.0</td>\n",
       "      <td>0.0</td>\n",
       "      <td>0.0</td>\n",
       "      <td>0.0</td>\n",
       "      <td>0.0</td>\n",
       "      <td>0.0</td>\n",
       "      <td>0.0</td>\n",
       "    </tr>\n",
       "    <tr>\n",
       "      <th>Angola</th>\n",
       "      <td>0.0</td>\n",
       "      <td>24505.0</td>\n",
       "      <td>0.0</td>\n",
       "      <td>0.0</td>\n",
       "      <td>0.0</td>\n",
       "      <td>0.0</td>\n",
       "      <td>6412.0</td>\n",
       "      <td>0.0</td>\n",
       "      <td>0.0</td>\n",
       "      <td>0.0</td>\n",
       "      <td>...</td>\n",
       "      <td>0.0</td>\n",
       "      <td>0.0</td>\n",
       "      <td>0.0</td>\n",
       "      <td>2992.0</td>\n",
       "      <td>0.0</td>\n",
       "      <td>0.0</td>\n",
       "      <td>0.0</td>\n",
       "      <td>0.0</td>\n",
       "      <td>0.0</td>\n",
       "      <td>0.0</td>\n",
       "    </tr>\n",
       "  </tbody>\n",
       "</table>\n",
       "<p>5 rows × 142 columns</p>\n",
       "</div>"
      ],
      "text/plain": [
       "             Agricultural machinery, equipment  \\\n",
       "Country                                          \n",
       "Afghanistan                             3105.0   \n",
       "Albania                                    0.0   \n",
       "Algeria                                    0.0   \n",
       "Andorra                                    0.0   \n",
       "Angola                                     0.0   \n",
       "\n",
       "             Alcoholic beverages, excluding wine  \\\n",
       "Country                                            \n",
       "Afghanistan                                  0.0   \n",
       "Albania                                  34741.0   \n",
       "Algeria                                      0.0   \n",
       "Andorra                                      0.0   \n",
       "Angola                                   24505.0   \n",
       "\n",
       "             Apparel, household goods - cotton  \\\n",
       "Country                                          \n",
       "Afghanistan                            10739.0   \n",
       "Albania                              2752171.0   \n",
       "Algeria                                    0.0   \n",
       "Andorra                                  351.0   \n",
       "Angola                                     0.0   \n",
       "\n",
       "             Apparel, household goods - wool  \\\n",
       "Country                                        \n",
       "Afghanistan                           7314.0   \n",
       "Albania                              50838.0   \n",
       "Algeria                                  0.0   \n",
       "Andorra                                  0.0   \n",
       "Angola                                   0.0   \n",
       "\n",
       "             Apparel, textiles, nonwool or cotton  \\\n",
       "Country                                             \n",
       "Afghanistan                               11942.0   \n",
       "Albania                                 1298224.0   \n",
       "Algeria                                       0.0   \n",
       "Andorra                                       0.0   \n",
       "Angola                                        0.0   \n",
       "\n",
       "             Apparel,household goods-nontextile  \\\n",
       "Country                                           \n",
       "Afghanistan                              2720.0   \n",
       "Albania                                889107.0   \n",
       "Algeria                                     0.0   \n",
       "Andorra                                  3683.0   \n",
       "Angola                                      0.0   \n",
       "\n",
       "             Artwork, antiques, stamps, etc.  Automotive tires and tubes  \\\n",
       "Country                                                                    \n",
       "Afghanistan                         402303.0                         0.0   \n",
       "Albania                             286011.0                         0.0   \n",
       "Algeria                              20217.0                         0.0   \n",
       "Andorra                                  0.0                         0.0   \n",
       "Angola                                6412.0                         0.0   \n",
       "\n",
       "             Bakery products  Bauxite and aluminum  ...   \\\n",
       "Country                                             ...    \n",
       "Afghanistan          12081.0                   0.0  ...    \n",
       "Albania                  0.0              182556.0  ...    \n",
       "Algeria                  0.0                   0.0  ...    \n",
       "Andorra                  0.0                4741.0  ...    \n",
       "Angola                   0.0                   0.0  ...    \n",
       "\n",
       "             Toiletries and cosmetics  Toys, games, and sporting goods  \\\n",
       "Country                                                                  \n",
       "Afghanistan                       0.0                              0.0   \n",
       "Albania                        4446.0                              0.0   \n",
       "Algeria                       22947.0                              0.0   \n",
       "Andorra                           0.0                              0.0   \n",
       "Angola                            0.0                              0.0   \n",
       "\n",
       "             Trucks, buses, and special purpose vehicles  \\\n",
       "Country                                                    \n",
       "Afghanistan                                          0.0   \n",
       "Albania                                              0.0   \n",
       "Algeria                                              0.0   \n",
       "Andorra                                              0.0   \n",
       "Angola                                               0.0   \n",
       "\n",
       "             U.S. goods returned, and reimports  Vegetables  \\\n",
       "Country                                                       \n",
       "Afghanistan                           6156613.0     25873.0   \n",
       "Albania                                 66682.0    519964.0   \n",
       "Algeria                              29474254.0         0.0   \n",
       "Andorra                                 67589.0         0.0   \n",
       "Angola                                   2992.0         0.0   \n",
       "\n",
       "             Vessels, except scrap  Wine, beer, and related products  \\\n",
       "Country                                                                \n",
       "Afghanistan                    0.0                           61741.0   \n",
       "Albania                        0.0                           14112.0   \n",
       "Algeria                        0.0                               0.0   \n",
       "Andorra                        0.0                               0.0   \n",
       "Angola                         0.0                               0.0   \n",
       "\n",
       "             Wood, glass, plastic  Wool, silk, etc.  Zinc  \n",
       "Country                                                    \n",
       "Afghanistan                8474.0            3350.0   0.0  \n",
       "Albania                       0.0               0.0   0.0  \n",
       "Algeria                       0.0               0.0   0.0  \n",
       "Andorra                       0.0               0.0   0.0  \n",
       "Angola                        0.0               0.0   0.0  \n",
       "\n",
       "[5 rows x 142 columns]"
      ]
     },
     "execution_count": 40,
     "metadata": {},
     "output_type": "execute_result"
    }
   ],
   "source": [
    "import pandas as pd\n",
    "df = pd.read_csv('data_q4.csv', index_col=0)\n",
    "df.head()"
   ]
  },
  {
   "cell_type": "code",
   "execution_count": 41,
   "metadata": {},
   "outputs": [],
   "source": [
    "from sklearn.preprocessing import StandardScaler\n",
    "stdScaler = StandardScaler()\n",
    "df_scaled = stdScaler.fit_transform(df)\n"
   ]
  },
  {
   "cell_type": "markdown",
   "metadata": {},
   "source": [
    "(a) (3pts) Find the top two principal components from this dataset, and make a scatter plot with the first component as the x-axis and the second as the y-axis. You may find the sklearn PCA package to be useful.\n",
    "\n"
   ]
  },
  {
   "cell_type": "code",
   "execution_count": 42,
   "metadata": {},
   "outputs": [
    {
     "data": {
      "text/plain": [
       "Text(0,0.5,'Component 2')"
      ]
     },
     "execution_count": 42,
     "metadata": {},
     "output_type": "execute_result"
    },
    {
     "data": {
      "image/png": "[encoded data removed]",
      "text/plain": [
       "<Figure size 432x288 with 1 Axes>"
      ]
     },
     "metadata": {
      "needs_background": "light"
     },
     "output_type": "display_data"
    }
   ],
   "source": [
    "from sklearn.decomposition import PCA\n",
    "\n",
    "pca = PCA(n_components=2)\n",
    "result = pca.fit_transform(df_scaled)\n",
    "scatter(result.T[0],result.T[1])\n",
    "xlabel('Component 1')\n",
    "ylabel('Component 2')"
   ]
  },
  {
   "cell_type": "markdown",
   "metadata": {},
   "source": [
    "(b) (2pts) Find the names of the six countries with the highest first component (these should be clear outliers).\n",
    "\n"
   ]
  },
  {
   "cell_type": "code",
   "execution_count": 43,
   "metadata": {},
   "outputs": [
    {
     "data": {
      "text/plain": [
       "array(['China', 'Canada', 'Mexico', 'Japan', 'Germany', 'Italy'],\n",
       "      dtype=object)"
      ]
     },
     "execution_count": 43,
     "metadata": {},
     "output_type": "execute_result"
    }
   ],
   "source": [
    "df1 = pd.DataFrame(result.T[0],index=df.index)\n",
    "df1.sort_values(0,ascending=False)[:6].index.values\n"
   ]
  },
  {
   "cell_type": "markdown",
   "metadata": {},
   "source": [
    "(c) (3pts) Create i) a scree plot depicting the proportion of variance and ii) a cumulative proportion of variance explained by the principal components of the data (X matrix).  If you are using sklearn's PCA implementation, you may use the output attribute *explained variance ratio*.\n"
   ]
  },
  {
   "cell_type": "code",
   "execution_count": 44,
   "metadata": {},
   "outputs": [
    {
     "data": {
      "image/png": "[encoded data removed]",
      "text/plain": [
       "<Figure size 432x288 with 1 Axes>"
      ]
     },
     "metadata": {
      "needs_background": "light"
     },
     "output_type": "display_data"
    },
    {
     "data": {
      "image/png": "[encoded data removed]",
      "text/plain": [
       "<Figure size 432x288 with 1 Axes>"
      ]
     },
     "metadata": {
      "needs_background": "light"
     },
     "output_type": "display_data"
    }
   ],
   "source": [
    "pca = PCA().fit(df_scaled)\n",
    "\n",
    "plt.plot(pca.explained_variance_ratio_)\n",
    "plt.xlabel('number of components')\n",
    "plt.ylabel('explained variance')\n",
    "show()\n",
    "\n",
    "plt.plot(np.cumsum(pca.explained_variance_ratio_))\n",
    "plt.xlabel('number of components')\n",
    "plt.ylabel('cumulative explained variance')\n",
    "show()"
   ]
  },
  {
   "cell_type": "markdown",
   "metadata": {},
   "source": [
    "\n",
    "(d) (2pts) How many principal components are required to explain cumulative variance of 30%, 60%, and 90%, respectively?"
   ]
  },
  {
   "cell_type": "code",
   "execution_count": 45,
   "metadata": {},
   "outputs": [
    {
     "name": "stdout",
     "output_type": "stream",
     "text": [
      "[0.45836493 0.62891692 0.70331894 0.75741175 0.78950084 0.8123537\n",
      " 0.83072741 0.84800627 0.86285645 0.87682848 0.88879573 0.89915412\n",
      " 0.90866372 0.91765725 0.92570664 0.93345143 0.94053199 0.94745427\n",
      " 0.95403019 0.95964134 0.96465473 0.96871142 0.9723949  0.975767\n",
      " 0.97826611 0.9805557  0.98237039 0.98401913 0.98558463 0.98699029\n",
      " 0.98819223 0.98934249 0.99030187 0.99120447 0.99205538 0.99288214\n",
      " 0.99361456 0.99427297 0.99486905 0.99540193 0.99587987 0.99632409\n",
      " 0.9967151  0.99706714 0.99741173 0.99772877 0.99796381 0.9981758\n",
      " 0.99836487 0.9985225  0.9986641  0.9987945  0.99891777 0.99902951\n",
      " 0.99913479 0.99922291 0.99930356 0.99937601 0.99944769 0.99951105\n",
      " 0.99957032 0.99962234 0.99967218 0.9997134  0.99974523 0.99977535\n",
      " 0.99980435 0.99982674 0.99984867 0.9998674  0.99988247 0.99989566\n",
      " 0.99990732 0.99991807 0.99992801 0.99993761 0.99994584 0.99995317\n",
      " 0.9999596  0.9999647  0.9999691  0.99997307 0.99997641 0.99997942\n",
      " 0.99998173 0.9999839  0.99998594 0.99998762 0.99998915 0.99999059\n",
      " 0.99999171 0.99999267 0.99999355 0.9999944  0.99999516 0.99999583\n",
      " 0.99999645 0.99999698 0.99999741 0.99999783 0.99999817 0.99999843\n",
      " 0.99999866 0.99999889 0.99999908 0.99999924 0.99999936 0.99999946\n",
      " 0.99999953 0.9999996  0.99999966 0.99999971 0.99999976 0.9999998\n",
      " 0.99999983 0.99999986 0.99999989 0.99999991 0.99999993 0.99999994\n",
      " 0.99999995 0.99999996 0.99999997 0.99999998 0.99999998 0.99999999\n",
      " 0.99999999 0.99999999 0.99999999 1.         1.         1.\n",
      " 1.         1.         1.         1.         1.         1.\n",
      " 1.         1.         1.         1.        ]\n"
     ]
    }
   ],
   "source": [
    "print(np.cumsum(pca.explained_variance_ratio_))\n"
   ]
  },
  {
   "cell_type": "code",
   "execution_count": 46,
   "metadata": {},
   "outputs": [
    {
     "name": "stdout",
     "output_type": "stream",
     "text": [
      "1 principal component is required to explain cumulative variance of 30% \n",
      "2 principal components are required to explain cumulative variance of 60% \n",
      "13 principal components are required to explain cumulative variance of 90% \n"
     ]
    }
   ],
   "source": [
    "print('1 principal component is required to explain cumulative variance of 30% ')\n",
    "print('2 principal components are required to explain cumulative variance of 60% ')\n",
    "print('13 principal components are required to explain cumulative variance of 90% ')"
   ]
  },
  {
   "cell_type": "markdown",
   "metadata": {},
   "source": [
    "# Question 5. PCA (conceptual) (10pts)"
   ]
  },
  {
   "cell_type": "markdown",
   "metadata": {},
   "source": [
    "(a) (5pts) Give two reasons why we might want to use PCA.\n",
    "\n"
   ]
  },
  {
   "cell_type": "markdown",
   "metadata": {},
   "source": [
    "Reasons:\n",
    "1. To reduce colinearity due to too many variables. \n",
    "2. To reduce the dimension of data, easy to fit model and visualise the data.')\n"
   ]
  },
  {
   "cell_type": "markdown",
   "metadata": {},
   "source": [
    "(b) (5pts) If we approach PCA using eigenvalue decomposition on the covariance matrix, explain what the eigenvectors and eigenvalues represent."
   ]
  },
  {
   "cell_type": "markdown",
   "metadata": {},
   "source": [
    "Explanation:\n",
    "\n",
    "Eigenvectors of covariance matrix represent the directions where the original data could be projected to, i.e. the components. \n",
    "\n",
    "Eigenvalues represent the variance of component projected on the eigenvector related to that eigenvalue. Therefore, larger eigenvalue mean that the components related to that eigenvalue contain more information of the original data. Components with the largest eigenvalues become principal components."
   ]
  }
 ],
 "metadata": {
  "kernelspec": {
   "display_name": "Python 2",
   "language": "python",
   "name": "python2"
  },
  "language_info": {
   "codemirror_mode": {
    "name": "ipython",
    "version": 2
   },
   "file_extension": ".py",
   "mimetype": "text/x-python",
   "name": "python",
   "nbconvert_exporter": "python",
   "pygments_lexer": "ipython2",
   "version": "2.7.15"
  }
 },
 "nbformat": 4,
 "nbformat_minor": 1
}
